{
 "cells": [
  {
   "cell_type": "markdown",
   "metadata": {},
   "source": [
    "# Project 4: Web Scraping Job Postings\n",
    "## Elliot Contreras\n",
    "https://git.generalassemb.ly/DSI-SF-6/DSI-SF-6-project-four\n",
    "\n",
    "### 1. Determine the industry factors that are most important in predicting the salary amounts for these data.\n",
    "### 2. Determine the factors that distinguish job categories and titles from each other. For example, can required skills accurately predict job title?"
   ]
  },
  {
   "cell_type": "markdown",
   "metadata": {},
   "source": [
    "### QUESTION 1: Factors that impact salary\n",
    "\n",
    "To predict salary you will be building either a classification or regression model, using features like the location, title, and summary of the job. If framing this as a regression problem, you will be estimating the listed salary amounts. You may instead choose to frame this as a classification problem, in which case you will create labels from these salaries (high vs. low salary, for example) according to thresholds (such as median salary).\n",
    "\n",
    "You have learned a variety of new skills and models that may be useful for this problem:\n",
    "\n",
    "- NLP\n",
    "- Unsupervised learning and dimensionality reduction techniques (PCA, clustering)\n",
    "- Ensemble methods and decision tree models\n",
    "- SVM models<br/>\n",
    "<br/>Whatever you decide to use, the most important thing is to justify your choices and interpret your results. Communication of your process is key. Note that most listings DO NOT come with salary information. You'll need to able to extrapolate or predict the expected salaries for these listings.\n",
    "\n",
    "### QUESTION 2: Factors that distinguish job category\n",
    "\n",
    "Using the job postings you scraped for part 1 (or potentially new job postings from a second round of scraping), identify features in the data related to job postings that can distinguish job titles from each other. There are a variety of interesting ways you can frame the target variable, for example:\n",
    "\n",
    "- What components of a job posting distinguish data scientists from other data jobs?\n",
    "- What features are important for distinguishing junior vs. senior positions?\n",
    "- Do the requirements for titles vary significantly with industry (e.g. healthcare vs. government)?\n",
    "- You may end up making multiple classification models to tackle different questions. Be sure to clearly explain your hypotheses and framing, any feature engineering, and what your target variables are. The type of classification model you choose is up to you. Be sure to interpret your results and evaluate your models' performance."
   ]
  },
  {
   "cell_type": "code",
   "execution_count": 81,
   "metadata": {
    "collapsed": true
   },
   "outputs": [],
   "source": [
    "import pandas as pd\n",
    "import numpy as np\n",
    "import scrapy\n",
    "import matplotlib.pyplot as plt\n",
    "import urllib2 #return userip address, make a function\n",
    "from bs4 import BeautifulSoup\n",
    "import requests\n",
    "from scrapy.selector import Selector\n",
    "import unidecode\n",
    "import re\n",
    "import time\n",
    "import urllib, json\n",
    "%matplotlib inline\n",
    "\n",
    "pd.set_option('display.max_columns', 50)"
   ]
  },
  {
   "cell_type": "markdown",
   "metadata": {},
   "source": [
    "### Establishing base functions"
   ]
  },
  {
   "cell_type": "code",
   "execution_count": 82,
   "metadata": {
    "collapsed": true
   },
   "outputs": [],
   "source": [
    "# This function returns a list of words, only letters, stopwords removed and lowercased\n",
    "from nltk.corpus import stopwords\n",
    "\n",
    "def words_to_wordlist( row, remove_stopwords=False ):\n",
    "    # Function to convert a document to a sequence of words,\n",
    "    # optionally removing stop words.  Returns a list of words.\n",
    "    #\n",
    "    #  \n",
    "    # 2. Remove non-letters\n",
    "    review_text = re.sub(\"[^a-zA-Z]\",\" \", row)\n",
    "    #\n",
    "    # 3. Convert words to lower case and split them\n",
    "    words = review_text.lower().split()\n",
    "    #\n",
    "    # 4. Optionally remove stop words (false by default)\n",
    "    if remove_stopwords:\n",
    "        stops = set(stopwords.words(\"english\"))\n",
    "        words = [w for w in words if not w in stops]\n",
    "    #\n",
    "    # 5. Return a list of words\n",
    "    return(words)"
   ]
  },
  {
   "cell_type": "code",
   "execution_count": 83,
   "metadata": {},
   "outputs": [
    {
     "data": {
      "text/plain": [
       "'2017_05_19_13_30_48'"
      ]
     },
     "execution_count": 83,
     "metadata": {},
     "output_type": "execute_result"
    }
   ],
   "source": [
    "import datetime, pytz\n",
    "# TIME VARIABLE BELOW WILL BE USED MULTIPLE TIMES FOR SAVING CSV\n",
    "# POSSIBLY FOR A TIME CHECK TO MAKE SURE TWITTER CALLS ARE WITHIN TIME LIMIT\n",
    "\n",
    "# Current time in UTC\n",
    "def current_pacific_time():\n",
    "    fmt = '%Y_%m_%d_%H_%M_%S'\n",
    "    now_utc = datetime.datetime.now(pytz.timezone('UTC'))\n",
    "    now_pacific = now_utc.astimezone(pytz.timezone('US/Pacific'))\n",
    "    return now_pacific.strftime(fmt)\n",
    "\n",
    "# CALL THIS VARIABLE BEFORE SAVING SO CURRENT PACIFIC TIME IS EMBEDDED\n",
    "current_pacific_time()"
   ]
  },
  {
   "cell_type": "code",
   "execution_count": 5,
   "metadata": {
    "collapsed": true
   },
   "outputs": [],
   "source": [
    "# exporting tweets dataframe, so information can be used later on\n",
    "def save_dataframe(df, name='some_text'):\n",
    "    if type(df) == pd.core.frame.DataFrame:\n",
    "        df.to_csv('./'+name+'_'+current_pacific_time()+'.csv', encoding='utf-8', index=False)\n",
    "        print 'Exported to: ./'+name+'_'+current_pacific_time()+'.csv'\n",
    "    else:\n",
    "        print 'No dataset selected'"
   ]
  },
  {
   "cell_type": "code",
   "execution_count": 84,
   "metadata": {
    "collapsed": true
   },
   "outputs": [],
   "source": [
    "# Function to convert utc timestamp to pacific timestamp\n",
    "def created_at_to_pacific(row):\n",
    "    try:\n",
    "        #row = str(row)\n",
    "        t = datetime.datetime.strptime(str(row.values[0]).replace('T', ' ').rstrip('.000000000'), \"%Y-%m-%d %H:%M:%S\")\n",
    "        t = t.replace(tzinfo=pytz.timezone('UTC'))\n",
    "        t = t.astimezone(pytz.timezone('US/Pacific'))\n",
    "        return t\n",
    "    except:\n",
    "        return row"
   ]
  },
  {
   "cell_type": "markdown",
   "metadata": {},
   "source": [
    "### Mining the Data using the Indeed api"
   ]
  },
  {
   "cell_type": "code",
   "execution_count": 85,
   "metadata": {
    "collapsed": true
   },
   "outputs": [],
   "source": [
    "# Setting up the publisher ID to be used with the indeed api\n",
    "from indeed import IndeedClient\n",
    "\n",
    "client = IndeedClient(publisher = 4030041204556404)"
   ]
  },
  {
   "cell_type": "code",
   "execution_count": 93,
   "metadata": {},
   "outputs": [
    {
     "name": "stdout",
     "output_type": "stream",
     "text": [
      "(400, 20) Original df\n",
      "(400, 20) With Duplicates Removed\n"
     ]
    },
    {
     "data": {
      "text/html": [
       "<div>\n",
       "<table border=\"1\" class=\"dataframe\">\n",
       "  <thead>\n",
       "    <tr style=\"text-align: right;\">\n",
       "      <th></th>\n",
       "      <th>city</th>\n",
       "      <th>company</th>\n",
       "      <th>country</th>\n",
       "      <th>date</th>\n",
       "      <th>expired</th>\n",
       "      <th>formattedLocation</th>\n",
       "      <th>formattedLocationFull</th>\n",
       "      <th>formattedRelativeTime</th>\n",
       "      <th>indeedApply</th>\n",
       "      <th>jobkey</th>\n",
       "      <th>jobtitle</th>\n",
       "      <th>language</th>\n",
       "      <th>onmousedown</th>\n",
       "      <th>salary</th>\n",
       "      <th>snippet</th>\n",
       "      <th>source</th>\n",
       "      <th>sponsored</th>\n",
       "      <th>state</th>\n",
       "      <th>stations</th>\n",
       "      <th>url</th>\n",
       "    </tr>\n",
       "  </thead>\n",
       "  <tbody>\n",
       "    <tr>\n",
       "      <th>42</th>\n",
       "      <td>New York</td>\n",
       "      <td>Pronoun</td>\n",
       "      <td>US</td>\n",
       "      <td>Wed, 10 May 2017 00:46:11 GMT</td>\n",
       "      <td>False</td>\n",
       "      <td>New York, NY</td>\n",
       "      <td>New York, NY</td>\n",
       "      <td>9 days ago</td>\n",
       "      <td>False</td>\n",
       "      <td>1fb18b6d76c9db25</td>\n",
       "      <td>Senior Data Scientist</td>\n",
       "      <td>en</td>\n",
       "      <td>indeed_clk(this,'4328');</td>\n",
       "      <td>$90,000</td>\n",
       "      <td>You are a seasoned &lt;b&gt;data&lt;/b&gt; &lt;b&gt;scientist&lt;/b...</td>\n",
       "      <td>Macmillan</td>\n",
       "      <td>False</td>\n",
       "      <td>NY</td>\n",
       "      <td></td>\n",
       "      <td>http://www.indeed.com/viewjob?jk=1fb18b6d76c9d...</td>\n",
       "    </tr>\n",
       "  </tbody>\n",
       "</table>\n",
       "</div>"
      ],
      "text/plain": [
       "        city  company country                           date expired  \\\n",
       "42  New York  Pronoun      US  Wed, 10 May 2017 00:46:11 GMT   False   \n",
       "\n",
       "   formattedLocation formattedLocationFull formattedRelativeTime indeedApply  \\\n",
       "42      New York, NY          New York, NY            9 days ago       False   \n",
       "\n",
       "              jobkey               jobtitle language  \\\n",
       "42  1fb18b6d76c9db25  Senior Data Scientist       en   \n",
       "\n",
       "                 onmousedown   salary  \\\n",
       "42  indeed_clk(this,'4328');  $90,000   \n",
       "\n",
       "                                              snippet     source sponsored  \\\n",
       "42  You are a seasoned <b>data</b> <b>scientist</b...  Macmillan     False   \n",
       "\n",
       "   state stations                                                url  \n",
       "42    NY           http://www.indeed.com/viewjob?jk=1fb18b6d76c9d...  "
      ]
     },
     "execution_count": 93,
     "metadata": {},
     "output_type": "execute_result"
    }
   ],
   "source": [
    "##### CUSTOM MADE MINER USING THE INDEED API \n",
    "\n",
    "# Empty list to add the mined entries\n",
    "search_responses = []\n",
    "\n",
    "# These are the salary ranges for data science positions\n",
    "salaries = ['$65,000', '$90,000', '$105,000', '$115,000', '$130,000']\n",
    "\n",
    "# These are the cities to search for\n",
    "cities = ['San Francisco, CA', 'Los Angeles, CA', 'New York, NY', 'Seattle, WA']\n",
    "\n",
    "# Useragent is needed for the api call\n",
    "mozilla = 'Mozilla/5.0 (Macintosh; Intel Mac OS X 10_12_4) AppleWebKit/537.36 (KHTML, like Gecko) Chrome/58.0.3029.81 Safari/537.36'\n",
    "\n",
    "# indeed api call through http\n",
    "indeed_http = 'http://api.indeed.com/ads/apisearch?publisher=[PUBLISHER_KEY]&'\n",
    "\n",
    "# query or search term\n",
    "q = 'data scientist'\n",
    "\n",
    "# manually set the salary index\n",
    "sal = 1\n",
    "\n",
    "query = urllib.urlencode({'q': q })+'+'+salaries[sal].replace('$', '%24').replace(',', '%2C')+'&'\n",
    "        \n",
    "for i in range(0,1000,25):\n",
    "            # settings for parameters\n",
    "    parameters = {        'q' : q,\n",
    "                              'l' : cities[2], \n",
    "                           'start': i+1, \n",
    "                         'fromage': 'any', \n",
    "                          'filter': 1, \n",
    "                          'userip': '38.140.30.202', \n",
    "                      'useragent' : mozilla, \n",
    "                               'v': 2, \n",
    "                          'format': 'json'\n",
    "            }\n",
    "            # encoding http + query + parameters into an http link\n",
    "    url = indeed_http+urllib.urlencode(parameters)\n",
    "    response = requests.get(url)\n",
    "            \n",
    "            # results are returned as json dictionaries\n",
    "    for result in json.loads(response.text)['results']:\n",
    "        result['salary'] = salaries[sal]\n",
    "                # Seperating results, and getting them into a pandas dataframe\n",
    "        search_responses.append(result)\n",
    "\n",
    "# casting results into a pandas dataframe\n",
    "df = pd.DataFrame(search_responses)\n",
    "print df.shape, 'Original df'\n",
    "\n",
    "# Dropping the duplicate rows\n",
    "df = df[~df.duplicated(subset='jobkey', keep='first')]\n",
    "print df.shape, 'With Duplicates Removed'\n",
    "df.sample()"
   ]
  },
  {
   "cell_type": "code",
   "execution_count": 87,
   "metadata": {
    "collapsed": true
   },
   "outputs": [],
   "source": [
    "# run once to create a list to hold the mined dataframes\n",
    "all_dataframes = []"
   ]
  },
  {
   "cell_type": "code",
   "execution_count": 94,
   "metadata": {
    "collapsed": true
   },
   "outputs": [],
   "source": [
    "# code above is ran several times independent from a loop. I found that running it in a loop did not collect enough information\n",
    "all_dataframes.append(df)"
   ]
  },
  {
   "cell_type": "code",
   "execution_count": 95,
   "metadata": {},
   "outputs": [
    {
     "name": "stdout",
     "output_type": "stream",
     "text": [
      "(1600, 20)\n"
     ]
    }
   ],
   "source": [
    "df = pd.concat(all_dataframes)\n",
    "print df.shape"
   ]
  },
  {
   "cell_type": "code",
   "execution_count": 96,
   "metadata": {},
   "outputs": [
    {
     "name": "stdout",
     "output_type": "stream",
     "text": [
      "(801, 20)\n"
     ]
    }
   ],
   "source": [
    "df = df[~df.duplicated(subset='jobkey', keep='first')]\n",
    "print df.shape"
   ]
  },
  {
   "cell_type": "code",
   "execution_count": 97,
   "metadata": {},
   "outputs": [
    {
     "data": {
      "text/plain": [
       "Index([                 u'city',               u'company',\n",
       "                     u'country',                  u'date',\n",
       "                     u'expired',     u'formattedLocation',\n",
       "       u'formattedLocationFull', u'formattedRelativeTime',\n",
       "                 u'indeedApply',                u'jobkey',\n",
       "                    u'jobtitle',              u'language',\n",
       "                 u'onmousedown',                u'salary',\n",
       "                     u'snippet',                u'source',\n",
       "                   u'sponsored',                 u'state',\n",
       "                    u'stations',                   u'url'],\n",
       "      dtype='object')"
      ]
     },
     "execution_count": 97,
     "metadata": {},
     "output_type": "execute_result"
    }
   ],
   "source": [
    "# Looking at the columns\n",
    "df.columns"
   ]
  },
  {
   "cell_type": "code",
   "execution_count": 98,
   "metadata": {},
   "outputs": [
    {
     "data": {
      "text/html": [
       "<div>\n",
       "<table border=\"1\" class=\"dataframe\">\n",
       "  <thead>\n",
       "    <tr style=\"text-align: right;\">\n",
       "      <th></th>\n",
       "      <th>city</th>\n",
       "      <th>company</th>\n",
       "      <th>country</th>\n",
       "      <th>date</th>\n",
       "      <th>jobkey</th>\n",
       "      <th>jobtitle</th>\n",
       "      <th>salary</th>\n",
       "      <th>state</th>\n",
       "      <th>url</th>\n",
       "    </tr>\n",
       "  </thead>\n",
       "  <tbody>\n",
       "    <tr>\n",
       "      <th>31</th>\n",
       "      <td>South San Francisco</td>\n",
       "      <td>Genentech</td>\n",
       "      <td>US</td>\n",
       "      <td>Thu, 20 Apr 2017 21:50:36 GMT</td>\n",
       "      <td>fa0b0ae0c3408f12</td>\n",
       "      <td>Senior Real World Data Scientist</td>\n",
       "      <td>$90,000</td>\n",
       "      <td>CA</td>\n",
       "      <td>http://www.indeed.com/viewjob?jk=fa0b0ae0c3408...</td>\n",
       "    </tr>\n",
       "  </tbody>\n",
       "</table>\n",
       "</div>"
      ],
      "text/plain": [
       "                   city    company country                           date  \\\n",
       "31  South San Francisco  Genentech      US  Thu, 20 Apr 2017 21:50:36 GMT   \n",
       "\n",
       "              jobkey                          jobtitle   salary state  \\\n",
       "31  fa0b0ae0c3408f12  Senior Real World Data Scientist  $90,000    CA   \n",
       "\n",
       "                                                  url  \n",
       "31  http://www.indeed.com/viewjob?jk=fa0b0ae0c3408...  "
      ]
     },
     "execution_count": 98,
     "metadata": {},
     "output_type": "execute_result"
    }
   ],
   "source": [
    "# Going to remove the following columns\n",
    "remove_cols = ['formattedRelativeTime', 'formattedLocationFull', 'onmousedown', 'sponsored', 'stations',\n",
    "              'expired', 'indeedApply', 'language', 'source', 'formattedLocation', 'snippet']\n",
    "df.drop(remove_cols, axis=1, inplace=True) # = [col for col in df.columns if col not in remove_cols]\n",
    "df.sample()"
   ]
  },
  {
   "cell_type": "markdown",
   "metadata": {
    "collapsed": true
   },
   "source": [
    "### Tests for description retrieval using the requests/scrapy selector"
   ]
  },
  {
   "cell_type": "code",
   "execution_count": 21,
   "metadata": {},
   "outputs": [
    {
     "data": {
      "text/plain": [
       "u'http://www.indeed.com/viewjob?jk=f926c72340fcd61a&qd=QjlBLq1gvKpCBnWQ-cPpj5GJT91Mro23yoPu5mU11GcPF99BKVcs3YfEl1HphPQYdDaKx4Q9EWKhSK2ttYA8J2y5iKhDm2WBzw3MJWKrZDg7wGLdADaDT7GfF8rF-S-6NVbuGkvXR_7b87sG_geiaw&indpubnum=4030041204556404&atk=1bgf82t8bag9m876'"
      ]
     },
     "execution_count": 21,
     "metadata": {},
     "output_type": "execute_result"
    }
   ],
   "source": [
    "# TEST: retrieving the url\n",
    "df.iloc[10]['url']"
   ]
  },
  {
   "cell_type": "code",
   "execution_count": 24,
   "metadata": {},
   "outputs": [
    {
     "data": {
      "text/plain": [
       "u'<!DOCTYPE html>\\n<html lang=\"en\">\\n<head><title>Analytic Consultant 1 job - Wells Fargo - San Francisc'"
      ]
     },
     "execution_count": 24,
     "metadata": {},
     "output_type": "execute_result"
    }
   ],
   "source": [
    "# requesting the html page\n",
    "url = df.iloc[10]['url']\n",
    "response = requests.get(url)\n",
    "response.text[:100]"
   ]
  },
  {
   "cell_type": "code",
   "execution_count": 25,
   "metadata": {},
   "outputs": [
    {
     "data": {
      "text/plain": [
       "\"Job Description\\n\\n\\nOur foundation for success can be summarized in three beliefs:\\n\\nOur product is service.\\n\\nOur value added is financial advice and guidance.\\n\\nOur competitive advantage is our people. It all begins with outstanding talent.\\n\\n\\nIn Payments, Virtual Solutions and Innovation (PVSI), we've built our team of top professionals by rewarding their accomplishments and ensuring they have what's needed to succeed. We value and promote diversity and inclusion in every aspect of our business and at every level of our organization.\\n\\n\\nThe PVSI team includes Consumer Credit Card, Retail Services, Consumer Deposits, Treasury Management, Merchant Services and Wells Fargo Virtual Channels including the professional services teams that partner with these businesses and other key partners.\\n\\n\\nThis role will be part of the Cards and Retail Services Analytics team. The Analytics team is comprised of experts representing data scientists, analytics, data infrastructure management, business intelligence, and data governance. Its objective is to build a world class analytics competency that supports the goals and priorities of PVSI by providing valuable, timely and actionable insights about Wells Fargo customers, products, channels and operations.\\n\\n\\nThis role will support the design, build, and maintenance of reporting solutions to help analyze and grow the portfolio. The role will perform data scientist functions: using data and analytical ability to find and interpret rich data sources; manage large amounts of data within hardware, software, and bandwidth limitations; merge data sources; ensure consistency of datasets; and creating visualizations to aid in understanding data. In addition, they will perform ad-hoc queries and that enables businesses to effectively mine historical data and better understand consumer behavior.\\n\\n\\nJob Responsibilities/duties\\n\\n\\n\\n\\n\\n\\n\\n\\n\\n\\nAll offers for employment with Wells Fargo are contingent upon the candidate having successfully completed a criminal background check. Wells Fargo will consider qualified candidates with criminal histories in a manner consistent with the requirements of applicable local, state and Federal law, including Section 19 of the Federal Deposit Insurance Act.\\n\\n\\nRelevant military experience is considered for veterans and transitioning service men and women.\\n\\n\\nWells Fargo is an Affirmative Action and Equal Opportunity Employer, Minority/Female/Disabled/Veteran/Gender Identity/Sexual Orientation.\""
      ]
     },
     "execution_count": 25,
     "metadata": {},
     "output_type": "execute_result"
    }
   ],
   "source": [
    "# extracting the description\n",
    "xpath_query = \"//span[@id='job_summary']/text()\"\n",
    "s = ''\n",
    "description = Selector(text=response.text).xpath(xpath_query).extract()\n",
    "\n",
    "# decoding the unicode into ascii, and removing the newlines\n",
    "# Uniting into an entire string\n",
    "for d in description:\n",
    "    s += unidecode.unidecode(d)#.replace('\\n', ' ').replace(',', '')#.strip('\\n')\n",
    "s"
   ]
  },
  {
   "cell_type": "markdown",
   "metadata": {
    "collapsed": true
   },
   "source": [
    "### Successful test to get the description.\n",
    "### Now to mine the information..."
   ]
  },
  {
   "cell_type": "code",
   "execution_count": 100,
   "metadata": {
    "collapsed": true
   },
   "outputs": [],
   "source": [
    "# Functions to retrieve description and ratings from mined indeed jobs\n",
    "def get_description(row):\n",
    "    '''use on the [\"url\"].map() column to create the [\"description\"] column\n",
    "    '''\n",
    "    url = row\n",
    "    response = requests.get(url)\n",
    "    xpath_query = \"//span[@id='job_summary']/text()\"\n",
    "    description = Selector(text=response.text).xpath(xpath_query).extract()\n",
    "    s = ''\n",
    "    for d in description:\n",
    "        s += unidecode.unidecode(d)#.replace('\\n', ' ').replace(',', '')#.strip('\\n')\n",
    "    return s\n",
    "\n",
    "def get_description_tokens(row):\n",
    "    '''use on the [\"description\"].map column to create the [\"description_tokens\"] column\n",
    "    '''\n",
    "    # converts description column to tokenised word list\n",
    "    words = words_to_wordlist(row, remove_stopwords=True)\n",
    "    return words\n",
    "\n",
    "def get_ratings(row):\n",
    "    '''use on the [\"url\"].map() column to create the [\"company_rating\"] column\n",
    "    '''\n",
    "    url = row\n",
    "    response = requests.get(url)\n",
    "    xpath_query = \"//span[@class='rating']\"\n",
    "    # attempts to extract the rating, but defaults to 0.5 if non-existant\n",
    "    try:\n",
    "        rating = Selector(text=response.text).xpath(xpath_query).extract()[0]\n",
    "        \n",
    "        title_search = re.search(\"(\\d\\d.\\d)\", rating, re.IGNORECASE)\n",
    "        \n",
    "        if title_search:\n",
    "            title = title_search.group(1)\n",
    "        \n",
    "        return float(title) / 60\n",
    "        \n",
    "    except:\n",
    "        # default to .5 as a baseline average out of 1.0\n",
    "        return .5"
   ]
  },
  {
   "cell_type": "code",
   "execution_count": 101,
   "metadata": {},
   "outputs": [
    {
     "data": {
      "text/html": [
       "<div>\n",
       "<table border=\"1\" class=\"dataframe\">\n",
       "  <thead>\n",
       "    <tr style=\"text-align: right;\">\n",
       "      <th></th>\n",
       "      <th>city</th>\n",
       "      <th>company</th>\n",
       "      <th>country</th>\n",
       "      <th>date</th>\n",
       "      <th>jobkey</th>\n",
       "      <th>jobtitle</th>\n",
       "      <th>salary</th>\n",
       "      <th>state</th>\n",
       "      <th>url</th>\n",
       "      <th>description</th>\n",
       "      <th>description_token</th>\n",
       "      <th>company_rating</th>\n",
       "    </tr>\n",
       "  </thead>\n",
       "  <tbody>\n",
       "    <tr>\n",
       "      <th>331</th>\n",
       "      <td>South San Francisco</td>\n",
       "      <td>Thermo Fisher Scientific</td>\n",
       "      <td>US</td>\n",
       "      <td>2017-05-03 10:33:50</td>\n",
       "      <td>196345348fcd7ff5</td>\n",
       "      <td>Bioinformatics Scientist III- Software</td>\n",
       "      <td>$90,000</td>\n",
       "      <td>CA</td>\n",
       "      <td>http://www.indeed.com/viewjob?jk=196345348fcd7...</td>\n",
       "      <td>When you're part of Thermo Fisher Scientific, ...</td>\n",
       "      <td>[part, thermo, fisher, scientific, challenging...</td>\n",
       "      <td>0.71</td>\n",
       "    </tr>\n",
       "  </tbody>\n",
       "</table>\n",
       "</div>"
      ],
      "text/plain": [
       "                    city                   company country  \\\n",
       "331  South San Francisco  Thermo Fisher Scientific      US   \n",
       "\n",
       "                   date            jobkey  \\\n",
       "331 2017-05-03 10:33:50  196345348fcd7ff5   \n",
       "\n",
       "                                   jobtitle   salary state  \\\n",
       "331  Bioinformatics Scientist III- Software  $90,000    CA   \n",
       "\n",
       "                                                   url  \\\n",
       "331  http://www.indeed.com/viewjob?jk=196345348fcd7...   \n",
       "\n",
       "                                           description  \\\n",
       "331  When you're part of Thermo Fisher Scientific, ...   \n",
       "\n",
       "                                     description_token  company_rating  \n",
       "331  [part, thermo, fisher, scientific, challenging...            0.71  "
      ]
     },
     "execution_count": 101,
     "metadata": {},
     "output_type": "execute_result"
    }
   ],
   "source": [
    "# Generating values for the following columns\n",
    "df['description']       = df['url'].map(lambda x: get_description(x))\n",
    "df['description_token'] = df['description'].map(lambda x: get_description_tokens(x))\n",
    "df['company_rating']    = df['url'].map(lambda x: get_ratings(x))\n",
    "\n",
    "# Converting the date column to a datetime format, and to pacific time, so it is more reasonable for us\n",
    "# I am at Pacific Time\n",
    "df['date'] = pd.to_datetime(df['date'])\n",
    "df['date'] = df['date'].map(lambda x: created_at_to_pacific(x))\n",
    "\n",
    "# Looking at a sample to see the changes\n",
    "df.sample()"
   ]
  },
  {
   "cell_type": "code",
   "execution_count": 102,
   "metadata": {},
   "outputs": [
    {
     "data": {
      "text/html": [
       "<div>\n",
       "<table border=\"1\" class=\"dataframe\">\n",
       "  <thead>\n",
       "    <tr style=\"text-align: right;\">\n",
       "      <th></th>\n",
       "      <th>city</th>\n",
       "      <th>company</th>\n",
       "      <th>country</th>\n",
       "      <th>date</th>\n",
       "      <th>jobkey</th>\n",
       "      <th>jobtitle</th>\n",
       "      <th>salary</th>\n",
       "      <th>state</th>\n",
       "      <th>url</th>\n",
       "      <th>description</th>\n",
       "      <th>description_token</th>\n",
       "      <th>company_rating</th>\n",
       "    </tr>\n",
       "  </thead>\n",
       "  <tbody>\n",
       "    <tr>\n",
       "      <th>223</th>\n",
       "      <td>San Mateo</td>\n",
       "      <td>Medallia, Inc.</td>\n",
       "      <td>US</td>\n",
       "      <td>2017-04-25 18:47:06</td>\n",
       "      <td>c79445a17bb9cd6c</td>\n",
       "      <td>VP, Data Science &amp; Engineering</td>\n",
       "      <td>90000</td>\n",
       "      <td>CA</td>\n",
       "      <td>http://www.indeed.com/viewjob?jk=c79445a17bb9c...</td>\n",
       "      <td>Medallia is the global leader in Customer Expe...</td>\n",
       "      <td>[medallia, global, leader, customer, experienc...</td>\n",
       "      <td>0.74</td>\n",
       "    </tr>\n",
       "  </tbody>\n",
       "</table>\n",
       "</div>"
      ],
      "text/plain": [
       "          city         company country                date            jobkey  \\\n",
       "223  San Mateo  Medallia, Inc.      US 2017-04-25 18:47:06  c79445a17bb9cd6c   \n",
       "\n",
       "                           jobtitle  salary state  \\\n",
       "223  VP, Data Science & Engineering   90000    CA   \n",
       "\n",
       "                                                   url  \\\n",
       "223  http://www.indeed.com/viewjob?jk=c79445a17bb9c...   \n",
       "\n",
       "                                           description  \\\n",
       "223  Medallia is the global leader in Customer Expe...   \n",
       "\n",
       "                                     description_token  company_rating  \n",
       "223  [medallia, global, leader, customer, experienc...            0.74  "
      ]
     },
     "execution_count": 102,
     "metadata": {},
     "output_type": "execute_result"
    }
   ],
   "source": [
    "# salary to int\n",
    "df['salary'] = df['salary'].map(lambda x: int(x.lstrip('$').replace(',','')))\n",
    "df.sample()"
   ]
  },
  {
   "cell_type": "code",
   "execution_count": 103,
   "metadata": {},
   "outputs": [
    {
     "data": {
      "text/html": [
       "<div>\n",
       "<table border=\"1\" class=\"dataframe\">\n",
       "  <thead>\n",
       "    <tr style=\"text-align: right;\">\n",
       "      <th></th>\n",
       "      <th>city</th>\n",
       "      <th>company</th>\n",
       "      <th>country</th>\n",
       "      <th>date</th>\n",
       "      <th>jobkey</th>\n",
       "      <th>jobtitle</th>\n",
       "      <th>salary</th>\n",
       "      <th>state</th>\n",
       "      <th>url</th>\n",
       "      <th>description</th>\n",
       "      <th>description_token</th>\n",
       "      <th>company_rating</th>\n",
       "    </tr>\n",
       "  </thead>\n",
       "  <tbody>\n",
       "  </tbody>\n",
       "</table>\n",
       "</div>"
      ],
      "text/plain": [
       "Empty DataFrame\n",
       "Columns: [city, company, country, date, jobkey, jobtitle, salary, state, url, description, description_token, company_rating]\n",
       "Index: []"
      ]
     },
     "execution_count": 103,
     "metadata": {},
     "output_type": "execute_result"
    }
   ],
   "source": [
    "# No more rows with missing data\n",
    "df[df['city'] == '']"
   ]
  },
  {
   "cell_type": "code",
   "execution_count": 104,
   "metadata": {},
   "outputs": [
    {
     "name": "stdout",
     "output_type": "stream",
     "text": [
      "Exported to: ./indeed__2017_05_19_13_40_04.csv\n"
     ]
    }
   ],
   "source": [
    "# saving the dataframe\n",
    "save_dataframe(df=df, name='indeed_')"
   ]
  },
  {
   "cell_type": "markdown",
   "metadata": {},
   "source": [
    "### EDA"
   ]
  },
  {
   "cell_type": "code",
   "execution_count": 105,
   "metadata": {},
   "outputs": [
    {
     "data": {
      "text/plain": [
       "<matplotlib.axes._subplots.AxesSubplot at 0x1105a79d0>"
      ]
     },
     "execution_count": 105,
     "metadata": {},
     "output_type": "execute_result"
    },
    {
     "data": {
      "image/png": "[encoded data removed]",
      "text/plain": [
       "<matplotlib.figure.Figure at 0x11057ad90>"
      ]
     },
     "metadata": {},
     "output_type": "display_data"
    }
   ],
   "source": [
    "df['salary'].hist(figsize=(10,5))"
   ]
  },
  {
   "cell_type": "markdown",
   "metadata": {
    "collapsed": true
   },
   "source": [
    "Due to the mining process, there are only jobs within these two ranges"
   ]
  },
  {
   "cell_type": "code",
   "execution_count": 106,
   "metadata": {},
   "outputs": [
    {
     "data": {
      "text/plain": [
       "<matplotlib.axes._subplots.AxesSubplot at 0x111d3de90>"
      ]
     },
     "execution_count": 106,
     "metadata": {},
     "output_type": "execute_result"
    },
    {
     "data": {
      "image/png": "[encoded data removed]",
      "text/plain": [
       "<matplotlib.figure.Figure at 0x111e1f150>"
      ]
     },
     "metadata": {},
     "output_type": "display_data"
    }
   ],
   "source": [
    "# Total Jobs by Location\n",
    "df['city'].value_counts().plot(kind='barh', figsize=(10,20), title='Total Jobs by City')"
   ]
  },
  {
   "cell_type": "markdown",
   "metadata": {},
   "source": [
    "Most of the jobs seem to be in New York City, with San Francisco in second"
   ]
  },
  {
   "cell_type": "code",
   "execution_count": 107,
   "metadata": {},
   "outputs": [
    {
     "data": {
      "text/plain": [
       "<matplotlib.axes._subplots.AxesSubplot at 0x111d90b90>"
      ]
     },
     "execution_count": 107,
     "metadata": {},
     "output_type": "execute_result"
    },
    {
     "data": {
      "image/png": "[encoded data removed]",
      "text/plain": [
       "<matplotlib.figure.Figure at 0x111e1f450>"
      ]
     },
     "metadata": {},
     "output_type": "display_data"
    }
   ],
   "source": [
    "# Total Jobs by Location\n",
    "df['state'].value_counts().plot(kind='barh', figsize=(14,10), title='Total Jobs by State')"
   ]
  },
  {
   "cell_type": "markdown",
   "metadata": {},
   "source": [
    "Unlike the graph before, the entirety of jobs are in California"
   ]
  },
  {
   "cell_type": "code",
   "execution_count": 108,
   "metadata": {},
   "outputs": [
    {
     "data": {
      "text/plain": [
       "<matplotlib.axes._subplots.AxesSubplot at 0x11243b650>"
      ]
     },
     "execution_count": 108,
     "metadata": {},
     "output_type": "execute_result"
    },
    {
     "data": {
      "image/png": "[encoded data removed]",
      "text/plain": [
       "<matplotlib.figure.Figure at 0x1127b4ad0>"
      ]
     },
     "metadata": {},
     "output_type": "display_data"
    }
   ],
   "source": [
    "# Distribution of Company Ratings\n",
    "df['company_rating'].hist(bins=10, figsize=(10,6))"
   ]
  },
  {
   "cell_type": "markdown",
   "metadata": {},
   "source": [
    "The majority of companies are rated at 0.5 because they did not have any rating and 0.5 was set as a default value.<br/>\n",
    "If we ignore that fact, then most companies are rated at 0.75, with the rest above 0.8. <br/>"
   ]
  },
  {
   "cell_type": "code",
   "execution_count": 109,
   "metadata": {},
   "outputs": [
    {
     "data": {
      "text/html": [
       "<div>\n",
       "<table border=\"1\" class=\"dataframe\">\n",
       "  <thead>\n",
       "    <tr style=\"text-align: right;\">\n",
       "      <th></th>\n",
       "      <th>city</th>\n",
       "      <th>company</th>\n",
       "      <th>country</th>\n",
       "      <th>date</th>\n",
       "      <th>jobkey</th>\n",
       "      <th>jobtitle</th>\n",
       "      <th>salary</th>\n",
       "      <th>state</th>\n",
       "      <th>url</th>\n",
       "      <th>description</th>\n",
       "      <th>description_token</th>\n",
       "      <th>company_rating</th>\n",
       "    </tr>\n",
       "  </thead>\n",
       "  <tbody>\n",
       "    <tr>\n",
       "      <th>256</th>\n",
       "      <td>New York</td>\n",
       "      <td>Venturi Ltd</td>\n",
       "      <td>US</td>\n",
       "      <td>2017-03-04 21:09:05</td>\n",
       "      <td>f81ac6582ae10fdb</td>\n",
       "      <td>Big Data Engineer / Hadoop Developer ( FinTech...</td>\n",
       "      <td>115000</td>\n",
       "      <td>NY</td>\n",
       "      <td>http://www.indeed.com/viewjob?jk=f81ac6582ae10...</td>\n",
       "      <td></td>\n",
       "      <td>[]</td>\n",
       "      <td>1.00</td>\n",
       "    </tr>\n",
       "    <tr>\n",
       "      <th>175</th>\n",
       "      <td>San Ramon</td>\n",
       "      <td>Diverse Lynx</td>\n",
       "      <td>US</td>\n",
       "      <td>2017-05-06 03:26:05</td>\n",
       "      <td>64ac867d239934c1</td>\n",
       "      <td>Data Scientist</td>\n",
       "      <td>90000</td>\n",
       "      <td>CA</td>\n",
       "      <td>http://www.indeed.com/viewjob?jk=64ac867d23993...</td>\n",
       "      <td>Position - Data Scientist\\n\\n\\n\\n\\n\\n\\n\\n1.Can...</td>\n",
       "      <td>[position, data, scientist, candidates, hold, ...</td>\n",
       "      <td>0.94</td>\n",
       "    </tr>\n",
       "    <tr>\n",
       "      <th>288</th>\n",
       "      <td>New York</td>\n",
       "      <td>Foursquare</td>\n",
       "      <td>US</td>\n",
       "      <td>2017-04-11 18:06:20</td>\n",
       "      <td>1f058a26a00f2e51</td>\n",
       "      <td>Senior Data Engineer</td>\n",
       "      <td>115000</td>\n",
       "      <td>NY</td>\n",
       "      <td>http://www.indeed.com/viewjob?jk=1f058a26a00f2...</td>\n",
       "      <td>\\nSince our inception in 2009, Foursquare has ...</td>\n",
       "      <td>[since, inception, foursquare, leading, force,...</td>\n",
       "      <td>0.93</td>\n",
       "    </tr>\n",
       "    <tr>\n",
       "      <th>368</th>\n",
       "      <td>San Francisco</td>\n",
       "      <td>The Climate Corporation</td>\n",
       "      <td>US</td>\n",
       "      <td>2017-02-25 06:55:07</td>\n",
       "      <td>00f75b177e12d8f4</td>\n",
       "      <td>Mobile Architect</td>\n",
       "      <td>90000</td>\n",
       "      <td>CA</td>\n",
       "      <td>http://www.indeed.com/viewjob?jk=00f75b177e12d...</td>\n",
       "      <td>Position Overview:\\n\\n\\nThought leaders to arc...</td>\n",
       "      <td>[position, overview, thought, leaders, archite...</td>\n",
       "      <td>0.92</td>\n",
       "    </tr>\n",
       "    <tr>\n",
       "      <th>20</th>\n",
       "      <td>New York</td>\n",
       "      <td>Quartet</td>\n",
       "      <td>US</td>\n",
       "      <td>2017-05-17 19:37:38</td>\n",
       "      <td>2a04f8cfdd285838</td>\n",
       "      <td>Data Scientist - Functional Data Insights</td>\n",
       "      <td>115000</td>\n",
       "      <td>NY</td>\n",
       "      <td>http://www.indeed.com/viewjob?jk=2a04f8cfdd285...</td>\n",
       "      <td>The Data Insights Team is looking for an entre...</td>\n",
       "      <td>[data, insights, team, looking, entrepreneuria...</td>\n",
       "      <td>0.92</td>\n",
       "    </tr>\n",
       "  </tbody>\n",
       "</table>\n",
       "</div>"
      ],
      "text/plain": [
       "              city                  company country                date  \\\n",
       "256       New York              Venturi Ltd      US 2017-03-04 21:09:05   \n",
       "175      San Ramon             Diverse Lynx      US 2017-05-06 03:26:05   \n",
       "288       New York               Foursquare      US 2017-04-11 18:06:20   \n",
       "368  San Francisco  The Climate Corporation      US 2017-02-25 06:55:07   \n",
       "20        New York                  Quartet      US 2017-05-17 19:37:38   \n",
       "\n",
       "               jobkey                                           jobtitle  \\\n",
       "256  f81ac6582ae10fdb  Big Data Engineer / Hadoop Developer ( FinTech...   \n",
       "175  64ac867d239934c1                                     Data Scientist   \n",
       "288  1f058a26a00f2e51                               Senior Data Engineer   \n",
       "368  00f75b177e12d8f4                                   Mobile Architect   \n",
       "20   2a04f8cfdd285838          Data Scientist - Functional Data Insights   \n",
       "\n",
       "     salary state                                                url  \\\n",
       "256  115000    NY  http://www.indeed.com/viewjob?jk=f81ac6582ae10...   \n",
       "175   90000    CA  http://www.indeed.com/viewjob?jk=64ac867d23993...   \n",
       "288  115000    NY  http://www.indeed.com/viewjob?jk=1f058a26a00f2...   \n",
       "368   90000    CA  http://www.indeed.com/viewjob?jk=00f75b177e12d...   \n",
       "20   115000    NY  http://www.indeed.com/viewjob?jk=2a04f8cfdd285...   \n",
       "\n",
       "                                           description  \\\n",
       "256                                                      \n",
       "175  Position - Data Scientist\\n\\n\\n\\n\\n\\n\\n\\n1.Can...   \n",
       "288  \\nSince our inception in 2009, Foursquare has ...   \n",
       "368  Position Overview:\\n\\n\\nThought leaders to arc...   \n",
       "20   The Data Insights Team is looking for an entre...   \n",
       "\n",
       "                                     description_token  company_rating  \n",
       "256                                                 []            1.00  \n",
       "175  [position, data, scientist, candidates, hold, ...            0.94  \n",
       "288  [since, inception, foursquare, leading, force,...            0.93  \n",
       "368  [position, overview, thought, leaders, archite...            0.92  \n",
       "20   [data, insights, team, looking, entrepreneuria...            0.92  "
      ]
     },
     "execution_count": 109,
     "metadata": {},
     "output_type": "execute_result"
    }
   ],
   "source": [
    "df.sort_values('company_rating', ascending=False).head()"
   ]
  },
  {
   "cell_type": "code",
   "execution_count": 110,
   "metadata": {},
   "outputs": [
    {
     "data": {
      "text/html": [
       "<div>\n",
       "<table border=\"1\" class=\"dataframe\">\n",
       "  <thead>\n",
       "    <tr style=\"text-align: right;\">\n",
       "      <th></th>\n",
       "      <th>city</th>\n",
       "      <th>company</th>\n",
       "      <th>country</th>\n",
       "      <th>date</th>\n",
       "      <th>jobkey</th>\n",
       "      <th>jobtitle</th>\n",
       "      <th>salary</th>\n",
       "      <th>state</th>\n",
       "      <th>url</th>\n",
       "      <th>description</th>\n",
       "      <th>description_token</th>\n",
       "      <th>company_rating</th>\n",
       "    </tr>\n",
       "  </thead>\n",
       "  <tbody>\n",
       "    <tr>\n",
       "      <th>0</th>\n",
       "      <td>San Francisco</td>\n",
       "      <td>Grammarly</td>\n",
       "      <td>US</td>\n",
       "      <td>2017-05-06 05:06:39</td>\n",
       "      <td>69784db6e1db4ab5</td>\n",
       "      <td>Data Scientist</td>\n",
       "      <td>90000</td>\n",
       "      <td>CA</td>\n",
       "      <td>http://www.indeed.com/viewjob?jk=69784db6e1db4...</td>\n",
       "      <td>The Opportunity\\n\\nEffective communication is ...</td>\n",
       "      <td>[opportunity, effective, communication, hard, ...</td>\n",
       "      <td>0.50</td>\n",
       "    </tr>\n",
       "    <tr>\n",
       "      <th>1</th>\n",
       "      <td>San Francisco</td>\n",
       "      <td>Kabbage</td>\n",
       "      <td>US</td>\n",
       "      <td>2017-05-13 06:14:11</td>\n",
       "      <td>d0309de406984ef7</td>\n",
       "      <td>Data Scientist</td>\n",
       "      <td>90000</td>\n",
       "      <td>CA</td>\n",
       "      <td>http://www.indeed.com/viewjob?jk=d0309de406984...</td>\n",
       "      <td>**********************************************...</td>\n",
       "      <td>[use, machine, learning, big, data, help, kabb...</td>\n",
       "      <td>0.50</td>\n",
       "    </tr>\n",
       "    <tr>\n",
       "      <th>2</th>\n",
       "      <td>San Francisco</td>\n",
       "      <td>Affirm</td>\n",
       "      <td>US</td>\n",
       "      <td>2017-01-28 09:28:53</td>\n",
       "      <td>43919ef2aba8622b</td>\n",
       "      <td>Data Scientist, Analytics</td>\n",
       "      <td>90000</td>\n",
       "      <td>CA</td>\n",
       "      <td>http://www.indeed.com/viewjob?jk=43919ef2aba86...</td>\n",
       "      <td>Do you love bringing data to life and driving ...</td>\n",
       "      <td>[love, bringing, data, life, driving, data, dr...</td>\n",
       "      <td>0.50</td>\n",
       "    </tr>\n",
       "    <tr>\n",
       "      <th>3</th>\n",
       "      <td>San Francisco</td>\n",
       "      <td>Eventbrite</td>\n",
       "      <td>US</td>\n",
       "      <td>2017-02-10 02:10:38</td>\n",
       "      <td>420ff65bc2b15f9c</td>\n",
       "      <td>Data Scientist</td>\n",
       "      <td>90000</td>\n",
       "      <td>CA</td>\n",
       "      <td>http://www.indeed.com/viewjob?jk=420ff65bc2b15...</td>\n",
       "      <td>THE CHALLENGE \\nThe Analytics &amp; Data Science t...</td>\n",
       "      <td>[challenge, analytics, data, science, team, wo...</td>\n",
       "      <td>0.65</td>\n",
       "    </tr>\n",
       "    <tr>\n",
       "      <th>4</th>\n",
       "      <td>San Francisco</td>\n",
       "      <td>Tapjoy</td>\n",
       "      <td>US</td>\n",
       "      <td>2017-05-18 17:42:05</td>\n",
       "      <td>bee22aa6d94caf95</td>\n",
       "      <td>Data Scientist</td>\n",
       "      <td>90000</td>\n",
       "      <td>CA</td>\n",
       "      <td>http://www.indeed.com/viewjob?jk=bee22aa6d94ca...</td>\n",
       "      <td>Tapjoy's Maximum Impact PlatformTM provides mo...</td>\n",
       "      <td>[tapjoy, maximum, impact, platformtm, provides...</td>\n",
       "      <td>0.69</td>\n",
       "    </tr>\n",
       "  </tbody>\n",
       "</table>\n",
       "</div>"
      ],
      "text/plain": [
       "            city     company country                date            jobkey  \\\n",
       "0  San Francisco   Grammarly      US 2017-05-06 05:06:39  69784db6e1db4ab5   \n",
       "1  San Francisco     Kabbage      US 2017-05-13 06:14:11  d0309de406984ef7   \n",
       "2  San Francisco      Affirm      US 2017-01-28 09:28:53  43919ef2aba8622b   \n",
       "3  San Francisco  Eventbrite      US 2017-02-10 02:10:38  420ff65bc2b15f9c   \n",
       "4  San Francisco      Tapjoy      US 2017-05-18 17:42:05  bee22aa6d94caf95   \n",
       "\n",
       "                    jobtitle  salary state  \\\n",
       "0             Data Scientist   90000    CA   \n",
       "1             Data Scientist   90000    CA   \n",
       "2  Data Scientist, Analytics   90000    CA   \n",
       "3             Data Scientist   90000    CA   \n",
       "4             Data Scientist   90000    CA   \n",
       "\n",
       "                                                 url  \\\n",
       "0  http://www.indeed.com/viewjob?jk=69784db6e1db4...   \n",
       "1  http://www.indeed.com/viewjob?jk=d0309de406984...   \n",
       "2  http://www.indeed.com/viewjob?jk=43919ef2aba86...   \n",
       "3  http://www.indeed.com/viewjob?jk=420ff65bc2b15...   \n",
       "4  http://www.indeed.com/viewjob?jk=bee22aa6d94ca...   \n",
       "\n",
       "                                         description  \\\n",
       "0  The Opportunity\\n\\nEffective communication is ...   \n",
       "1  **********************************************...   \n",
       "2  Do you love bringing data to life and driving ...   \n",
       "3  THE CHALLENGE \\nThe Analytics & Data Science t...   \n",
       "4  Tapjoy's Maximum Impact PlatformTM provides mo...   \n",
       "\n",
       "                                   description_token  company_rating  \n",
       "0  [opportunity, effective, communication, hard, ...            0.50  \n",
       "1  [use, machine, learning, big, data, help, kabb...            0.50  \n",
       "2  [love, bringing, data, life, driving, data, dr...            0.50  \n",
       "3  [challenge, analytics, data, science, team, wo...            0.65  \n",
       "4  [tapjoy, maximum, impact, platformtm, provides...            0.69  "
      ]
     },
     "execution_count": 110,
     "metadata": {},
     "output_type": "execute_result"
    }
   ],
   "source": [
    "# Restting index because of four dataframes concatenated together\n",
    "df = df.reset_index(drop=True)\n",
    "df.head()"
   ]
  },
  {
   "cell_type": "markdown",
   "metadata": {},
   "source": [
    "### Modeling Phase\n",
    "### Preparing the data for the modeling phase"
   ]
  },
  {
   "cell_type": "code",
   "execution_count": 111,
   "metadata": {
    "collapsed": true
   },
   "outputs": [],
   "source": [
    "# programming languages used as search words in the description\n",
    "prog_lang = ['r', 'python', 'java', 'c++', 'ruby', 'data', 'science','perl', 'matlab', \n",
    " 'machine', 'learning', 'nlp', 'javascript', 'aws', 'spark', 'hadoop']"
   ]
  },
  {
   "cell_type": "code",
   "execution_count": 112,
   "metadata": {},
   "outputs": [
    {
     "data": {
      "text/html": [
       "<div>\n",
       "<table border=\"1\" class=\"dataframe\">\n",
       "  <thead>\n",
       "    <tr style=\"text-align: right;\">\n",
       "      <th></th>\n",
       "      <th>city</th>\n",
       "      <th>company</th>\n",
       "      <th>country</th>\n",
       "      <th>date</th>\n",
       "      <th>jobkey</th>\n",
       "      <th>jobtitle</th>\n",
       "      <th>salary</th>\n",
       "      <th>state</th>\n",
       "      <th>url</th>\n",
       "      <th>description</th>\n",
       "      <th>description_token</th>\n",
       "      <th>company_rating</th>\n",
       "      <th>r</th>\n",
       "      <th>python</th>\n",
       "      <th>java</th>\n",
       "      <th>c++</th>\n",
       "      <th>ruby</th>\n",
       "      <th>data</th>\n",
       "      <th>science</th>\n",
       "      <th>perl</th>\n",
       "      <th>matlab</th>\n",
       "      <th>machine</th>\n",
       "      <th>learning</th>\n",
       "      <th>nlp</th>\n",
       "      <th>javascript</th>\n",
       "      <th>aws</th>\n",
       "      <th>spark</th>\n",
       "      <th>hadoop</th>\n",
       "    </tr>\n",
       "  </thead>\n",
       "  <tbody>\n",
       "    <tr>\n",
       "      <th>0</th>\n",
       "      <td>San Francisco</td>\n",
       "      <td>Grammarly</td>\n",
       "      <td>US</td>\n",
       "      <td>2017-05-06 05:06:39</td>\n",
       "      <td>69784db6e1db4ab5</td>\n",
       "      <td>Data Scientist</td>\n",
       "      <td>90000</td>\n",
       "      <td>CA</td>\n",
       "      <td>http://www.indeed.com/viewjob?jk=69784db6e1db4...</td>\n",
       "      <td>The Opportunity\\n\\nEffective communication is ...</td>\n",
       "      <td>[opportunity, effective, communication, hard, ...</td>\n",
       "      <td>0.5</td>\n",
       "      <td>0</td>\n",
       "      <td>0</td>\n",
       "      <td>0</td>\n",
       "      <td>0</td>\n",
       "      <td>0</td>\n",
       "      <td>0</td>\n",
       "      <td>0</td>\n",
       "      <td>0</td>\n",
       "      <td>0</td>\n",
       "      <td>0</td>\n",
       "      <td>0</td>\n",
       "      <td>0</td>\n",
       "      <td>0</td>\n",
       "      <td>0</td>\n",
       "      <td>0</td>\n",
       "      <td>0</td>\n",
       "    </tr>\n",
       "  </tbody>\n",
       "</table>\n",
       "</div>"
      ],
      "text/plain": [
       "            city    company country                date            jobkey  \\\n",
       "0  San Francisco  Grammarly      US 2017-05-06 05:06:39  69784db6e1db4ab5   \n",
       "\n",
       "         jobtitle  salary state  \\\n",
       "0  Data Scientist   90000    CA   \n",
       "\n",
       "                                                 url  \\\n",
       "0  http://www.indeed.com/viewjob?jk=69784db6e1db4...   \n",
       "\n",
       "                                         description  \\\n",
       "0  The Opportunity\\n\\nEffective communication is ...   \n",
       "\n",
       "                                   description_token  company_rating  r  \\\n",
       "0  [opportunity, effective, communication, hard, ...             0.5  0   \n",
       "\n",
       "   python  java  c++  ruby  data  science  perl  matlab  machine  learning  \\\n",
       "0       0     0    0     0     0        0     0       0        0         0   \n",
       "\n",
       "   nlp  javascript  aws  spark  hadoop  \n",
       "0    0           0    0      0       0  "
      ]
     },
     "execution_count": 112,
     "metadata": {},
     "output_type": "execute_result"
    }
   ],
   "source": [
    "# Setting up the dataframe to allow for the count of programming words\n",
    "for p in prog_lang:\n",
    "    df[p] = 0\n",
    "df.head(1)\n",
    "# Iterating through the programming languages, and creating a column with said word"
   ]
  },
  {
   "cell_type": "markdown",
   "metadata": {
    "collapsed": true
   },
   "source": [
    "With the tokenized description, the words are counted and checked against the programming languages"
   ]
  },
  {
   "cell_type": "code",
   "execution_count": 114,
   "metadata": {},
   "outputs": [
    {
     "data": {
      "text/html": [
       "<div>\n",
       "<table border=\"1\" class=\"dataframe\">\n",
       "  <thead>\n",
       "    <tr style=\"text-align: right;\">\n",
       "      <th></th>\n",
       "      <th>city</th>\n",
       "      <th>company</th>\n",
       "      <th>country</th>\n",
       "      <th>date</th>\n",
       "      <th>jobkey</th>\n",
       "      <th>jobtitle</th>\n",
       "      <th>salary</th>\n",
       "      <th>state</th>\n",
       "      <th>url</th>\n",
       "      <th>description</th>\n",
       "      <th>description_token</th>\n",
       "      <th>company_rating</th>\n",
       "      <th>r</th>\n",
       "      <th>python</th>\n",
       "      <th>java</th>\n",
       "      <th>c++</th>\n",
       "      <th>ruby</th>\n",
       "      <th>data</th>\n",
       "      <th>science</th>\n",
       "      <th>perl</th>\n",
       "      <th>matlab</th>\n",
       "      <th>machine</th>\n",
       "      <th>learning</th>\n",
       "      <th>nlp</th>\n",
       "      <th>javascript</th>\n",
       "      <th>aws</th>\n",
       "      <th>spark</th>\n",
       "      <th>hadoop</th>\n",
       "    </tr>\n",
       "  </thead>\n",
       "  <tbody>\n",
       "    <tr>\n",
       "      <th>0</th>\n",
       "      <td>San Francisco</td>\n",
       "      <td>Grammarly</td>\n",
       "      <td>US</td>\n",
       "      <td>2017-05-06 05:06:39</td>\n",
       "      <td>69784db6e1db4ab5</td>\n",
       "      <td>Data Scientist</td>\n",
       "      <td>90000</td>\n",
       "      <td>CA</td>\n",
       "      <td>http://www.indeed.com/viewjob?jk=69784db6e1db4...</td>\n",
       "      <td>The Opportunity\\n\\nEffective communication is ...</td>\n",
       "      <td>[opportunity, effective, communication, hard, ...</td>\n",
       "      <td>0.50</td>\n",
       "      <td>0</td>\n",
       "      <td>0</td>\n",
       "      <td>0</td>\n",
       "      <td>0</td>\n",
       "      <td>0</td>\n",
       "      <td>2</td>\n",
       "      <td>0</td>\n",
       "      <td>0</td>\n",
       "      <td>0</td>\n",
       "      <td>0</td>\n",
       "      <td>0</td>\n",
       "      <td>0</td>\n",
       "      <td>0</td>\n",
       "      <td>0</td>\n",
       "      <td>0</td>\n",
       "      <td>0</td>\n",
       "    </tr>\n",
       "    <tr>\n",
       "      <th>1</th>\n",
       "      <td>San Francisco</td>\n",
       "      <td>Kabbage</td>\n",
       "      <td>US</td>\n",
       "      <td>2017-05-13 06:14:11</td>\n",
       "      <td>d0309de406984ef7</td>\n",
       "      <td>Data Scientist</td>\n",
       "      <td>90000</td>\n",
       "      <td>CA</td>\n",
       "      <td>http://www.indeed.com/viewjob?jk=d0309de406984...</td>\n",
       "      <td>**********************************************...</td>\n",
       "      <td>[use, machine, learning, big, data, help, kabb...</td>\n",
       "      <td>0.50</td>\n",
       "      <td>0</td>\n",
       "      <td>0</td>\n",
       "      <td>0</td>\n",
       "      <td>0</td>\n",
       "      <td>0</td>\n",
       "      <td>6</td>\n",
       "      <td>1</td>\n",
       "      <td>0</td>\n",
       "      <td>0</td>\n",
       "      <td>2</td>\n",
       "      <td>2</td>\n",
       "      <td>1</td>\n",
       "      <td>0</td>\n",
       "      <td>0</td>\n",
       "      <td>0</td>\n",
       "      <td>0</td>\n",
       "    </tr>\n",
       "    <tr>\n",
       "      <th>2</th>\n",
       "      <td>San Francisco</td>\n",
       "      <td>Affirm</td>\n",
       "      <td>US</td>\n",
       "      <td>2017-01-28 09:28:53</td>\n",
       "      <td>43919ef2aba8622b</td>\n",
       "      <td>Data Scientist, Analytics</td>\n",
       "      <td>90000</td>\n",
       "      <td>CA</td>\n",
       "      <td>http://www.indeed.com/viewjob?jk=43919ef2aba86...</td>\n",
       "      <td>Do you love bringing data to life and driving ...</td>\n",
       "      <td>[love, bringing, data, life, driving, data, dr...</td>\n",
       "      <td>0.50</td>\n",
       "      <td>0</td>\n",
       "      <td>0</td>\n",
       "      <td>0</td>\n",
       "      <td>0</td>\n",
       "      <td>0</td>\n",
       "      <td>3</td>\n",
       "      <td>0</td>\n",
       "      <td>0</td>\n",
       "      <td>0</td>\n",
       "      <td>0</td>\n",
       "      <td>0</td>\n",
       "      <td>0</td>\n",
       "      <td>0</td>\n",
       "      <td>0</td>\n",
       "      <td>0</td>\n",
       "      <td>0</td>\n",
       "    </tr>\n",
       "    <tr>\n",
       "      <th>3</th>\n",
       "      <td>San Francisco</td>\n",
       "      <td>Eventbrite</td>\n",
       "      <td>US</td>\n",
       "      <td>2017-02-10 02:10:38</td>\n",
       "      <td>420ff65bc2b15f9c</td>\n",
       "      <td>Data Scientist</td>\n",
       "      <td>90000</td>\n",
       "      <td>CA</td>\n",
       "      <td>http://www.indeed.com/viewjob?jk=420ff65bc2b15...</td>\n",
       "      <td>THE CHALLENGE \\nThe Analytics &amp; Data Science t...</td>\n",
       "      <td>[challenge, analytics, data, science, team, wo...</td>\n",
       "      <td>0.65</td>\n",
       "      <td>0</td>\n",
       "      <td>0</td>\n",
       "      <td>0</td>\n",
       "      <td>0</td>\n",
       "      <td>0</td>\n",
       "      <td>10</td>\n",
       "      <td>2</td>\n",
       "      <td>0</td>\n",
       "      <td>0</td>\n",
       "      <td>0</td>\n",
       "      <td>0</td>\n",
       "      <td>0</td>\n",
       "      <td>0</td>\n",
       "      <td>0</td>\n",
       "      <td>0</td>\n",
       "      <td>0</td>\n",
       "    </tr>\n",
       "    <tr>\n",
       "      <th>4</th>\n",
       "      <td>San Francisco</td>\n",
       "      <td>Tapjoy</td>\n",
       "      <td>US</td>\n",
       "      <td>2017-05-18 17:42:05</td>\n",
       "      <td>bee22aa6d94caf95</td>\n",
       "      <td>Data Scientist</td>\n",
       "      <td>90000</td>\n",
       "      <td>CA</td>\n",
       "      <td>http://www.indeed.com/viewjob?jk=bee22aa6d94ca...</td>\n",
       "      <td>Tapjoy's Maximum Impact PlatformTM provides mo...</td>\n",
       "      <td>[tapjoy, maximum, impact, platformtm, provides...</td>\n",
       "      <td>0.69</td>\n",
       "      <td>1</td>\n",
       "      <td>0</td>\n",
       "      <td>0</td>\n",
       "      <td>0</td>\n",
       "      <td>0</td>\n",
       "      <td>2</td>\n",
       "      <td>0</td>\n",
       "      <td>0</td>\n",
       "      <td>0</td>\n",
       "      <td>0</td>\n",
       "      <td>0</td>\n",
       "      <td>0</td>\n",
       "      <td>0</td>\n",
       "      <td>0</td>\n",
       "      <td>0</td>\n",
       "      <td>0</td>\n",
       "    </tr>\n",
       "  </tbody>\n",
       "</table>\n",
       "</div>"
      ],
      "text/plain": [
       "            city     company country                date            jobkey  \\\n",
       "0  San Francisco   Grammarly      US 2017-05-06 05:06:39  69784db6e1db4ab5   \n",
       "1  San Francisco     Kabbage      US 2017-05-13 06:14:11  d0309de406984ef7   \n",
       "2  San Francisco      Affirm      US 2017-01-28 09:28:53  43919ef2aba8622b   \n",
       "3  San Francisco  Eventbrite      US 2017-02-10 02:10:38  420ff65bc2b15f9c   \n",
       "4  San Francisco      Tapjoy      US 2017-05-18 17:42:05  bee22aa6d94caf95   \n",
       "\n",
       "                    jobtitle  salary state  \\\n",
       "0             Data Scientist   90000    CA   \n",
       "1             Data Scientist   90000    CA   \n",
       "2  Data Scientist, Analytics   90000    CA   \n",
       "3             Data Scientist   90000    CA   \n",
       "4             Data Scientist   90000    CA   \n",
       "\n",
       "                                                 url  \\\n",
       "0  http://www.indeed.com/viewjob?jk=69784db6e1db4...   \n",
       "1  http://www.indeed.com/viewjob?jk=d0309de406984...   \n",
       "2  http://www.indeed.com/viewjob?jk=43919ef2aba86...   \n",
       "3  http://www.indeed.com/viewjob?jk=420ff65bc2b15...   \n",
       "4  http://www.indeed.com/viewjob?jk=bee22aa6d94ca...   \n",
       "\n",
       "                                         description  \\\n",
       "0  The Opportunity\\n\\nEffective communication is ...   \n",
       "1  **********************************************...   \n",
       "2  Do you love bringing data to life and driving ...   \n",
       "3  THE CHALLENGE \\nThe Analytics & Data Science t...   \n",
       "4  Tapjoy's Maximum Impact PlatformTM provides mo...   \n",
       "\n",
       "                                   description_token  company_rating  r  \\\n",
       "0  [opportunity, effective, communication, hard, ...            0.50  0   \n",
       "1  [use, machine, learning, big, data, help, kabb...            0.50  0   \n",
       "2  [love, bringing, data, life, driving, data, dr...            0.50  0   \n",
       "3  [challenge, analytics, data, science, team, wo...            0.65  0   \n",
       "4  [tapjoy, maximum, impact, platformtm, provides...            0.69  1   \n",
       "\n",
       "   python  java  c++  ruby  data  science  perl  matlab  machine  learning  \\\n",
       "0       0     0    0     0     2        0     0       0        0         0   \n",
       "1       0     0    0     0     6        1     0       0        2         2   \n",
       "2       0     0    0     0     3        0     0       0        0         0   \n",
       "3       0     0    0     0    10        2     0       0        0         0   \n",
       "4       0     0    0     0     2        0     0       0        0         0   \n",
       "\n",
       "   nlp  javascript  aws  spark  hadoop  \n",
       "0    0           0    0      0       0  \n",
       "1    1           0    0      0       0  \n",
       "2    0           0    0      0       0  \n",
       "3    0           0    0      0       0  \n",
       "4    0           0    0      0       0  "
      ]
     },
     "execution_count": 114,
     "metadata": {},
     "output_type": "execute_result"
    }
   ],
   "source": [
    "# Iterating over every row\n",
    "for index, row in df.iterrows():\n",
    "    # counting the words in the description\n",
    "    # remove hashtag on the end if dataframe was loaded as a csv ----->>>\n",
    "    words = row['description_token']#.lstrip('[').rstrip(']').replace(',', '').split(' ')\n",
    "    # Creating a temporary dictionary\n",
    "    temp_dict = {}\n",
    "    for word in words:\n",
    "        if word not in temp_dict:\n",
    "            temp_dict[word] = 1\n",
    "        else:\n",
    "            temp_dict[word] += 1\n",
    "    # Casting the dictionary as a pandas dataframe    \n",
    "    temp = pd.DataFrame.from_dict([temp_dict])\n",
    "    # these words will be removed from the dataframe as they are not in the programming language list\n",
    "    p_cols = [col for col in temp.columns if col not in prog_lang]\n",
    "    # dropping those extra columns/words\n",
    "    temp.drop(p_cols, axis=1, inplace=True)\n",
    "    # casting columns as a set\n",
    "    a = set(temp.columns)\n",
    "    b = set(prog_lang)\n",
    "    # getting the difference to fill in the missing data in the temp dataframe\n",
    "    for col in list(b.difference(a)):\n",
    "        temp[col] = 0\n",
    "    # setting the values onto the dataframe from the temporary dataframe\n",
    "    for p in prog_lang:\n",
    "        row[p] = int(temp[p].values)\n",
    "    df.iloc[index] = row\n",
    "\n",
    "        \n",
    "df.head()"
   ]
  },
  {
   "cell_type": "code",
   "execution_count": 182,
   "metadata": {},
   "outputs": [
    {
     "data": {
      "text/plain": [
       "<matplotlib.axes._subplots.AxesSubplot at 0x134674850>"
      ]
     },
     "execution_count": 182,
     "metadata": {},
     "output_type": "execute_result"
    },
    {
     "data": {
      "image/png": "[encoded data removed]",
      "text/plain": [
       "<matplotlib.figure.Figure at 0x134674c50>"
      ]
     },
     "metadata": {},
     "output_type": "display_data"
    }
   ],
   "source": [
    "df[prog_lang]['data'].hist()"
   ]
  },
  {
   "cell_type": "code",
   "execution_count": 115,
   "metadata": {},
   "outputs": [
    {
     "name": "stdout",
     "output_type": "stream",
     "text": [
      "Exported to: ./indeed__2017_05_19_13_48_48.csv\n"
     ]
    }
   ],
   "source": [
    "# Exporting the dataframe\n",
    "save_dataframe(df=df, name='indeed_')"
   ]
  },
  {
   "cell_type": "code",
   "execution_count": 116,
   "metadata": {
    "collapsed": true
   },
   "outputs": [],
   "source": [
    "from sklearn.preprocessing import LabelEncoder"
   ]
  },
  {
   "cell_type": "code",
   "execution_count": 117,
   "metadata": {
    "collapsed": true
   },
   "outputs": [],
   "source": [
    "le = LabelEncoder()"
   ]
  },
  {
   "cell_type": "code",
   "execution_count": 119,
   "metadata": {
    "collapsed": true
   },
   "outputs": [],
   "source": [
    "# function to label encode columns\n",
    "def encode_columns(col):\n",
    "    df[col+'_enc'] = le.fit_transform(df[col])\n",
    "    print 'Label Encoded:', col"
   ]
  },
  {
   "cell_type": "code",
   "execution_count": 123,
   "metadata": {},
   "outputs": [
    {
     "name": "stdout",
     "output_type": "stream",
     "text": [
      "Label Encoded: city\n",
      "Label Encoded: company\n",
      "Label Encoded: state\n",
      "Label Encoded: jobtitle\n",
      "Label Encoded: salary\n"
     ]
    },
    {
     "data": {
      "text/html": [
       "<div>\n",
       "<table border=\"1\" class=\"dataframe\">\n",
       "  <thead>\n",
       "    <tr style=\"text-align: right;\">\n",
       "      <th></th>\n",
       "      <th>city</th>\n",
       "      <th>company</th>\n",
       "      <th>country</th>\n",
       "      <th>date</th>\n",
       "      <th>jobkey</th>\n",
       "      <th>jobtitle</th>\n",
       "      <th>salary</th>\n",
       "      <th>state</th>\n",
       "      <th>url</th>\n",
       "      <th>description</th>\n",
       "      <th>description_token</th>\n",
       "      <th>company_rating</th>\n",
       "      <th>r</th>\n",
       "      <th>python</th>\n",
       "      <th>java</th>\n",
       "      <th>c++</th>\n",
       "      <th>ruby</th>\n",
       "      <th>data</th>\n",
       "      <th>science</th>\n",
       "      <th>perl</th>\n",
       "      <th>matlab</th>\n",
       "      <th>machine</th>\n",
       "      <th>learning</th>\n",
       "      <th>nlp</th>\n",
       "      <th>javascript</th>\n",
       "      <th>aws</th>\n",
       "      <th>spark</th>\n",
       "      <th>hadoop</th>\n",
       "      <th>city_enc</th>\n",
       "      <th>company_enc</th>\n",
       "      <th>state_enc</th>\n",
       "      <th>jobtitle_enc</th>\n",
       "      <th>salary_enc</th>\n",
       "    </tr>\n",
       "  </thead>\n",
       "  <tbody>\n",
       "    <tr>\n",
       "      <th>445</th>\n",
       "      <td>New York</td>\n",
       "      <td>Logic Corporation</td>\n",
       "      <td>US</td>\n",
       "      <td>2017-05-08 11:24:14</td>\n",
       "      <td>d9f256fe03f53e8b</td>\n",
       "      <td>Senior Data Scientist</td>\n",
       "      <td>115000</td>\n",
       "      <td>NY</td>\n",
       "      <td>http://www.indeed.com/viewjob?jk=d9f256fe03f53...</td>\n",
       "      <td></td>\n",
       "      <td>[]</td>\n",
       "      <td>0.5</td>\n",
       "      <td>0</td>\n",
       "      <td>0</td>\n",
       "      <td>0</td>\n",
       "      <td>0</td>\n",
       "      <td>0</td>\n",
       "      <td>0</td>\n",
       "      <td>0</td>\n",
       "      <td>0</td>\n",
       "      <td>0</td>\n",
       "      <td>0</td>\n",
       "      <td>0</td>\n",
       "      <td>0</td>\n",
       "      <td>0</td>\n",
       "      <td>0</td>\n",
       "      <td>0</td>\n",
       "      <td>0</td>\n",
       "      <td>26</td>\n",
       "      <td>239</td>\n",
       "      <td>2</td>\n",
       "      <td>535</td>\n",
       "      <td>1</td>\n",
       "    </tr>\n",
       "  </tbody>\n",
       "</table>\n",
       "</div>"
      ],
      "text/plain": [
       "         city            company country                date  \\\n",
       "445  New York  Logic Corporation      US 2017-05-08 11:24:14   \n",
       "\n",
       "               jobkey               jobtitle  salary state  \\\n",
       "445  d9f256fe03f53e8b  Senior Data Scientist  115000    NY   \n",
       "\n",
       "                                                   url description  \\\n",
       "445  http://www.indeed.com/viewjob?jk=d9f256fe03f53...               \n",
       "\n",
       "    description_token  company_rating  r  python  java  c++  ruby  data  \\\n",
       "445                []             0.5  0       0     0    0     0     0   \n",
       "\n",
       "     science  perl  matlab  machine  learning  nlp  javascript  aws  spark  \\\n",
       "445        0     0       0        0         0    0           0    0      0   \n",
       "\n",
       "     hadoop  city_enc  company_enc  state_enc  jobtitle_enc  salary_enc  \n",
       "445       0        26          239          2           535           1  "
      ]
     },
     "execution_count": 123,
     "metadata": {},
     "output_type": "execute_result"
    }
   ],
   "source": [
    "# label encoding these columns\n",
    "le_columns = ['city', 'company', 'state', 'jobtitle', 'salary']\n",
    "for column in le_columns:\n",
    "    encode_columns(column)\n",
    "df.sample()"
   ]
  },
  {
   "cell_type": "code",
   "execution_count": 124,
   "metadata": {},
   "outputs": [
    {
     "data": {
      "text/plain": [
       "[(u'Alameda', 0), (u'Bayside', 1), (u'Belmont', 2)]"
      ]
     },
     "execution_count": 124,
     "metadata": {},
     "output_type": "execute_result"
    }
   ],
   "source": [
    "# Getting the encoded information with the actual value to be used as reference\n",
    "encoded_list = []\n",
    "for col in le_columns:\n",
    "    temp_zip = zip(sorted(set(df[col].values)), sorted(set(df[col+'_enc'].values)))\n",
    "    encoded_list.append(temp_zip)\n",
    "encoded_list[0][:3]"
   ]
  },
  {
   "cell_type": "code",
   "execution_count": 125,
   "metadata": {},
   "outputs": [
    {
     "data": {
      "text/plain": [
       "Index([             u'city',           u'company',           u'country',\n",
       "                    u'date',            u'jobkey',          u'jobtitle',\n",
       "                  u'salary',             u'state',               u'url',\n",
       "             u'description', u'description_token',    u'company_rating',\n",
       "                       u'r',            u'python',              u'java',\n",
       "                     u'c++',              u'ruby',              u'data',\n",
       "                 u'science',              u'perl',            u'matlab',\n",
       "                 u'machine',          u'learning',               u'nlp',\n",
       "              u'javascript',               u'aws',             u'spark',\n",
       "                  u'hadoop',          u'city_enc',       u'company_enc',\n",
       "               u'state_enc',      u'jobtitle_enc',        u'salary_enc'],\n",
       "      dtype='object')"
      ]
     },
     "execution_count": 125,
     "metadata": {},
     "output_type": "execute_result"
    }
   ],
   "source": [
    "# looking at the columns\n",
    "df.columns"
   ]
  },
  {
   "cell_type": "code",
   "execution_count": 126,
   "metadata": {},
   "outputs": [
    {
     "data": {
      "text/html": [
       "<div>\n",
       "<table border=\"1\" class=\"dataframe\">\n",
       "  <thead>\n",
       "    <tr style=\"text-align: right;\">\n",
       "      <th></th>\n",
       "      <th>company_rating</th>\n",
       "      <th>r</th>\n",
       "      <th>python</th>\n",
       "      <th>java</th>\n",
       "      <th>c++</th>\n",
       "      <th>ruby</th>\n",
       "      <th>data</th>\n",
       "      <th>science</th>\n",
       "      <th>perl</th>\n",
       "      <th>matlab</th>\n",
       "      <th>machine</th>\n",
       "      <th>learning</th>\n",
       "      <th>nlp</th>\n",
       "      <th>javascript</th>\n",
       "      <th>aws</th>\n",
       "      <th>spark</th>\n",
       "      <th>hadoop</th>\n",
       "      <th>city_enc</th>\n",
       "      <th>company_enc</th>\n",
       "      <th>state_enc</th>\n",
       "      <th>jobtitle_enc</th>\n",
       "      <th>salary_enc</th>\n",
       "    </tr>\n",
       "  </thead>\n",
       "  <tbody>\n",
       "    <tr>\n",
       "      <th>747</th>\n",
       "      <td>0.85</td>\n",
       "      <td>0</td>\n",
       "      <td>0</td>\n",
       "      <td>0</td>\n",
       "      <td>0</td>\n",
       "      <td>0</td>\n",
       "      <td>4</td>\n",
       "      <td>1</td>\n",
       "      <td>0</td>\n",
       "      <td>0</td>\n",
       "      <td>0</td>\n",
       "      <td>0</td>\n",
       "      <td>0</td>\n",
       "      <td>0</td>\n",
       "      <td>0</td>\n",
       "      <td>0</td>\n",
       "      <td>0</td>\n",
       "      <td>26</td>\n",
       "      <td>92</td>\n",
       "      <td>2</td>\n",
       "      <td>134</td>\n",
       "      <td>1</td>\n",
       "    </tr>\n",
       "  </tbody>\n",
       "</table>\n",
       "</div>"
      ],
      "text/plain": [
       "     company_rating  r  python  java  c++  ruby  data  science  perl  matlab  \\\n",
       "747            0.85  0       0     0    0     0     4        1     0       0   \n",
       "\n",
       "     machine  learning  nlp  javascript  aws  spark  hadoop  city_enc  \\\n",
       "747        0         0    0           0    0      0       0        26   \n",
       "\n",
       "     company_enc  state_enc  jobtitle_enc  salary_enc  \n",
       "747           92          2           134           1  "
      ]
     },
     "execution_count": 126,
     "metadata": {},
     "output_type": "execute_result"
    }
   ],
   "source": [
    "# Creating a new dataframe with just the encoded columns\n",
    "df_q1 = df.drop(['city','company','country', 'date', 'jobkey', 'jobtitle',\n",
    "                 'salary', 'state', 'url', 'description', 'description_token'], axis=1)\n",
    "df_q1.sample()"
   ]
  },
  {
   "cell_type": "code",
   "execution_count": 127,
   "metadata": {
    "collapsed": true
   },
   "outputs": [],
   "source": [
    "# Creating X and y variables\n",
    "y = df_q1['salary_enc']\n",
    "X_copy = df_q1.drop('salary_enc', axis=1)\n",
    "from sklearn.preprocessing import StandardScaler\n",
    "scaler = StandardScaler()\n",
    "X = scaler.fit_transform(X_copy)"
   ]
  },
  {
   "cell_type": "code",
   "execution_count": 128,
   "metadata": {
    "collapsed": true
   },
   "outputs": [],
   "source": [
    "from sklearn.model_selection import train_test_split"
   ]
  },
  {
   "cell_type": "code",
   "execution_count": 129,
   "metadata": {
    "collapsed": true
   },
   "outputs": [],
   "source": [
    "# Creating the trainging and testing data\n",
    "X_train, X_test, y_train, y_test = train_test_split(X, y, test_size=0.33, random_state=42)"
   ]
  },
  {
   "cell_type": "markdown",
   "metadata": {},
   "source": [
    "### Modeling phase"
   ]
  },
  {
   "cell_type": "code",
   "execution_count": 169,
   "metadata": {
    "collapsed": true
   },
   "outputs": [],
   "source": [
    "from sklearn.linear_model import LogisticRegression, LogisticRegressionCV\n",
    "from sklearn.model_selection import cross_val_score\n",
    "from sklearn.metrics import confusion_matrix, classification_report"
   ]
  },
  {
   "cell_type": "code",
   "execution_count": 143,
   "metadata": {
    "scrolled": true
   },
   "outputs": [
    {
     "data": {
      "text/plain": [
       "0.99245283018867925"
      ]
     },
     "execution_count": 143,
     "metadata": {},
     "output_type": "execute_result"
    }
   ],
   "source": [
    "# First attempt will be done with logistic regression.\n",
    "# Making an attempt to predict salary\n",
    "# Salary is binary in this case with only two options, 90000 and 115000\n",
    "logreg = LogisticRegression(C=2, random_state=0)\n",
    "logreg.fit(X_train, y_train)\n",
    "logreg.score(X_test, y_test)"
   ]
  },
  {
   "cell_type": "markdown",
   "metadata": {},
   "source": [
    "0.99 Seems to good to be true, I will make an attempt with cross validation"
   ]
  },
  {
   "cell_type": "code",
   "execution_count": 172,
   "metadata": {},
   "outputs": [
    {
     "name": "stdout",
     "output_type": "stream",
     "text": [
      "Accuracy: 0.996 (0.005)\n",
      "AUC: 0.999 (0.001)\n",
      "Logloss: -0.027 (0.021)\n",
      "Confusion Matrix:\n",
      "[[138   0]\n",
      " [  2 125]]\n",
      "             precision    recall  f1-score   support\n",
      "\n",
      "          0       0.99      1.00      0.99       138\n",
      "          1       1.00      0.98      0.99       127\n",
      "\n",
      "avg / total       0.99      0.99      0.99       265\n",
      "\n"
     ]
    }
   ],
   "source": [
    "# Cross Validation Classification Accuracy\n",
    "scoring = 'accuracy'\n",
    "results = cross_val_score(logreg, X_train, y_train, cv=5, scoring=scoring)\n",
    "print(\"Accuracy: %.3f (%.3f)\") % (results.mean(), results.std())\n",
    "\n",
    "# Cross Validation Classification ROC AUC\n",
    "scoring = 'roc_auc'\n",
    "results = cross_val_score(logreg, X_train, y_train, cv=5, scoring=scoring)\n",
    "print(\"AUC: %.3f (%.3f)\") % (results.mean(), results.std())\n",
    "\n",
    "# Cross Validation Classification LogLoss\n",
    "scoring = 'neg_log_loss'\n",
    "results = cross_val_score(logreg, X_train, y_train, cv=5, scoring=scoring)\n",
    "print(\"Logloss: %.3f (%.3f)\") % (results.mean(), results.std())\n",
    "\n",
    "# Confusion Matrix\n",
    "predicted = logreg.predict(X_test)\n",
    "matrix = confusion_matrix(y_test, predicted)\n",
    "print 'Confusion Matrix:'\n",
    "print(matrix)\n",
    "\n",
    "# Classification report\n",
    "report = classification_report(y_test, predicted)\n",
    "print(report)"
   ]
  },
  {
   "cell_type": "markdown",
   "metadata": {},
   "source": [
    "The ROC curve score is very close to 1, indicating that the model performed almost perfectly. <br/>\n",
    "The logloss is somewhat close to 0."
   ]
  },
  {
   "cell_type": "code",
   "execution_count": 150,
   "metadata": {},
   "outputs": [
    {
     "data": {
      "text/plain": [
       "0.99622641509433962"
      ]
     },
     "execution_count": 150,
     "metadata": {},
     "output_type": "execute_result"
    }
   ],
   "source": [
    "# Basic LogisticRegressionCV\n",
    "logregCV = LogisticRegressionCV(Cs=2, cv=5, random_state=0)\n",
    "logregCV.fit(X_train, y_train)\n",
    "logregCV.score(X_test, y_test)"
   ]
  },
  {
   "cell_type": "code",
   "execution_count": 151,
   "metadata": {},
   "outputs": [
    {
     "data": {
      "text/plain": [
       "[(5.8641559522749027, 'state_enc'),\n",
       " (0.31084529744611267, 'company_rating'),\n",
       " (0.25352197954843808, 'r'),\n",
       " (0.048524081245409349, 'java'),\n",
       " (0.0, 'c++'),\n",
       " (-0.0079904201327861447, 'hadoop'),\n",
       " (-0.010185959269003177, 'aws'),\n",
       " (-0.029235952021984764, 'data'),\n",
       " (-0.065540654272674317, 'nlp'),\n",
       " (-0.070752749573741891, 'company_enc'),\n",
       " (-0.078044092227832609, 'ruby'),\n",
       " (-0.085190063779131242, 'jobtitle_enc'),\n",
       " (-0.088419467816429592, 'python'),\n",
       " (-0.11055337467464781, 'spark'),\n",
       " (-0.13911172613907871, 'javascript'),\n",
       " (-0.17881339975029617, 'matlab'),\n",
       " (-0.18067117256170817, 'science'),\n",
       " (-0.2187766065321258, 'learning'),\n",
       " (-0.22720950090761161, 'city_enc'),\n",
       " (-0.24002845056134459, 'machine'),\n",
       " (-0.46493706311550537, 'perl')]"
      ]
     },
     "execution_count": 151,
     "metadata": {},
     "output_type": "execute_result"
    }
   ],
   "source": [
    "# Looking at the coeffiecients which contributed to the predictions\n",
    "sorted(zip(logreg.coef_[0], list(X_copy.columns)), reverse=True)"
   ]
  },
  {
   "cell_type": "markdown",
   "metadata": {},
   "source": [
    "It looks like the state has a lot to do with the prediction on salary. In further tests, I would like to mine more data with a higher diversity in locations. The company rating does contribute to the predictions. I would assume that a company with a higher rating is somewhere that people want to work at, and they may in fact pay more. The programming language r is a contributer to the predictions, but python is not that much. In fact java is up there, but it may be because there are job postings not related to data science."
   ]
  },
  {
   "cell_type": "code",
   "execution_count": 152,
   "metadata": {
    "collapsed": true
   },
   "outputs": [],
   "source": [
    "from sklearn.ensemble import ExtraTreesClassifier"
   ]
  },
  {
   "cell_type": "code",
   "execution_count": 155,
   "metadata": {},
   "outputs": [
    {
     "data": {
      "text/plain": [
       "1.0"
      ]
     },
     "execution_count": 155,
     "metadata": {},
     "output_type": "execute_result"
    }
   ],
   "source": [
    "# Making an attempt with an ExtraTreesClassifier\n",
    "extra = ExtraTreesClassifier(random_state=0, max_depth=3, n_estimators=15, n_jobs=3, max_features=.5, class_weight='balanced')\n",
    "extra.fit(X_train, y_train)\n",
    "extra.score(X_test, y_test)"
   ]
  },
  {
   "cell_type": "code",
   "execution_count": 154,
   "metadata": {},
   "outputs": [
    {
     "data": {
      "text/plain": [
       "[(0.87644330484962274, 'state_enc'),\n",
       " (0.10510884415768683, 'city_enc'),\n",
       " (0.0039553185112012378, 'perl'),\n",
       " (0.002805530044674728, 'company_enc'),\n",
       " (0.0028009818948864645, 'company_rating'),\n",
       " (0.0015957879181250994, 'hadoop'),\n",
       " (0.0013426433735829473, 'science'),\n",
       " (0.0012627736668628796, 'r'),\n",
       " (0.0012492174557269214, 'spark'),\n",
       " (0.0010372026769806047, 'learning'),\n",
       " (0.00058301024783039923, 'java'),\n",
       " (0.00054497830201690801, 'data'),\n",
       " (0.0005055857804549161, 'python'),\n",
       " (0.00025202625370828434, 'matlab'),\n",
       " (0.00024875621890547062, 'aws'),\n",
       " (0.00014730592584304286, 'machine'),\n",
       " (0.00011673272189056313, 'javascript'),\n",
       " (0.0, 'ruby'),\n",
       " (0.0, 'nlp'),\n",
       " (0.0, 'jobtitle_enc'),\n",
       " (0.0, 'c++')]"
      ]
     },
     "execution_count": 154,
     "metadata": {},
     "output_type": "execute_result"
    }
   ],
   "source": [
    "sorted(zip(extra.feature_importances_, X_copy.columns), reverse=True)"
   ]
  },
  {
   "cell_type": "code",
   "execution_count": 173,
   "metadata": {},
   "outputs": [
    {
     "name": "stdout",
     "output_type": "stream",
     "text": [
      "Accuracy: 0.998 (0.004)\n",
      "AUC: 0.996 (0.008)\n",
      "Logloss: -0.164 (0.132)\n",
      "Confusion Matrix:\n",
      "[[138   0]\n",
      " [  0 127]]\n",
      "             precision    recall  f1-score   support\n",
      "\n",
      "          0       1.00      1.00      1.00       138\n",
      "          1       1.00      1.00      1.00       127\n",
      "\n",
      "avg / total       1.00      1.00      1.00       265\n",
      "\n"
     ]
    }
   ],
   "source": [
    "# Cross Validation Classification Accuracy\n",
    "scoring = 'accuracy'\n",
    "results = cross_val_score(extra, X_train, y_train, cv=5, scoring=scoring)\n",
    "print(\"Accuracy: %.3f (%.3f)\") % (results.mean(), results.std())\n",
    "\n",
    "# Cross Validation Classification ROC AUC\n",
    "scoring = 'roc_auc'\n",
    "results = cross_val_score(extra, X_train, y_train, cv=5, scoring=scoring)\n",
    "print(\"AUC: %.3f (%.3f)\") % (results.mean(), results.std())\n",
    "\n",
    "# Cross Validation Classification LogLoss\n",
    "scoring = 'neg_log_loss'\n",
    "results = cross_val_score(extra, X_train, y_train, cv=5, scoring=scoring)\n",
    "print(\"Logloss: %.3f (%.3f)\") % (results.mean(), results.std())\n",
    "\n",
    "# Confusion Matrix\n",
    "predicted = extra.predict(X_test)\n",
    "matrix = confusion_matrix(y_test, predicted)\n",
    "print 'Confusion Matrix:'\n",
    "print(matrix)\n",
    "\n",
    "# Classification report\n",
    "report = classification_report(y_test, predicted)\n",
    "print(report)"
   ]
  },
  {
   "cell_type": "markdown",
   "metadata": {},
   "source": [
    "Again, it seems that location has a major impact on the predictions. Looking at the information, there are only three states: CA, NY, NJ. Further tests imply that a better diversity of locations may affect the predicitons."
   ]
  },
  {
   "cell_type": "code",
   "execution_count": 156,
   "metadata": {},
   "outputs": [
    {
     "name": "stderr",
     "output_type": "stream",
     "text": [
      "Using TensorFlow backend.\n"
     ]
    }
   ],
   "source": [
    "# Making an attempt with KerasClassifier\n",
    "from keras.models import Sequential\n",
    "from keras.layers import Dense\n",
    "from keras.layers import Dropout\n",
    "from keras.wrappers.scikit_learn import KerasClassifier\n",
    "from sklearn.model_selection import cross_val_score\n",
    "from sklearn.model_selection import StratifiedKFold\n",
    "\n",
    "# from sklearn.pipeline import Pipeline"
   ]
  },
  {
   "cell_type": "code",
   "execution_count": 158,
   "metadata": {},
   "outputs": [
    {
     "name": "stdout",
     "output_type": "stream",
     "text": [
      "Results: 99.75% (0.31%)\n"
     ]
    }
   ],
   "source": [
    "input_dim = X_train.shape[1]\n",
    "\n",
    "def create_baseline():\n",
    "    # create model\n",
    "    model = Sequential()\n",
    "    model.add(Dense(32, input_dim=input_dim, kernel_initializer='normal', activation='relu'))\n",
    "    model.add(Dropout(0.2))\n",
    "    model.add(Dense(32, activation='relu'))\n",
    "    model.add(Dropout(0.5))\n",
    "    model.add(Dense(1, activation='sigmoid'))\n",
    "    \n",
    "    # Compile model\n",
    "    model.compile(loss='binary_crossentropy',\n",
    "                  optimizer='rmsprop', \n",
    "                  metrics=['accuracy'])\n",
    "    return model\n",
    "\n",
    "\n",
    "estimator = KerasClassifier(build_fn=create_baseline, nb_epoch=50, batch_size=10, verbose=0)\n",
    "kfold = StratifiedKFold(n_splits=5, shuffle=True, random_state=0)\n",
    "results = cross_val_score(estimator, X, y, cv=kfold)\n",
    "print(\"Results: %.2f%% (%.2f%%)\" % (results.mean()*100, results.std()*100))"
   ]
  },
  {
   "cell_type": "code",
   "execution_count": 175,
   "metadata": {},
   "outputs": [
    {
     "name": "stdout",
     "output_type": "stream",
     "text": [
      "Accuracy: 0.993 (0.009)\n",
      "AUC: 1.000 (0.000)\n",
      "Logloss: -0.030 (0.015)\n"
     ]
    }
   ],
   "source": [
    "# Cross Validation Classification Accuracy\n",
    "scoring = 'accuracy'\n",
    "results = cross_val_score(estimator, X_train, y_train, cv=5, scoring=scoring)\n",
    "print(\"Accuracy: %.3f (%.3f)\") % (results.mean(), results.std())\n",
    "\n",
    "# Cross Validation Classification ROC AUC\n",
    "scoring = 'roc_auc'\n",
    "results = cross_val_score(estimator, X_train, y_train, cv=5, scoring=scoring)\n",
    "print(\"AUC: %.3f (%.3f)\") % (results.mean(), results.std())\n",
    "\n",
    "# Cross Validation Classification LogLoss\n",
    "scoring = 'neg_log_loss'\n",
    "results = cross_val_score(estimator, X_train, y_train, cv=5, scoring=scoring)\n",
    "print(\"Logloss: %.3f (%.3f)\") % (results.mean(), results.std())"
   ]
  },
  {
   "cell_type": "markdown",
   "metadata": {},
   "source": [
    "For now, I can accurately predict salary with 99% accuracy. Given more information, and a wider variety of salaries, this accuracy may change. "
   ]
  },
  {
   "cell_type": "markdown",
   "metadata": {},
   "source": [
    "### Classification of job titles"
   ]
  },
  {
   "cell_type": "code",
   "execution_count": 183,
   "metadata": {},
   "outputs": [
    {
     "data": {
      "text/html": [
       "<div>\n",
       "<table border=\"1\" class=\"dataframe\">\n",
       "  <thead>\n",
       "    <tr style=\"text-align: right;\">\n",
       "      <th></th>\n",
       "      <th>company_rating</th>\n",
       "      <th>r</th>\n",
       "      <th>python</th>\n",
       "      <th>java</th>\n",
       "      <th>c++</th>\n",
       "      <th>ruby</th>\n",
       "      <th>data</th>\n",
       "      <th>science</th>\n",
       "      <th>perl</th>\n",
       "      <th>matlab</th>\n",
       "      <th>machine</th>\n",
       "      <th>learning</th>\n",
       "      <th>nlp</th>\n",
       "      <th>javascript</th>\n",
       "      <th>aws</th>\n",
       "      <th>spark</th>\n",
       "      <th>hadoop</th>\n",
       "      <th>city_enc</th>\n",
       "      <th>company_enc</th>\n",
       "      <th>state_enc</th>\n",
       "      <th>jobtitle_enc</th>\n",
       "      <th>salary_enc</th>\n",
       "    </tr>\n",
       "  </thead>\n",
       "  <tbody>\n",
       "    <tr>\n",
       "      <th>624</th>\n",
       "      <td>0.5</td>\n",
       "      <td>0</td>\n",
       "      <td>0</td>\n",
       "      <td>0</td>\n",
       "      <td>0</td>\n",
       "      <td>0</td>\n",
       "      <td>1</td>\n",
       "      <td>0</td>\n",
       "      <td>0</td>\n",
       "      <td>0</td>\n",
       "      <td>0</td>\n",
       "      <td>0</td>\n",
       "      <td>0</td>\n",
       "      <td>0</td>\n",
       "      <td>0</td>\n",
       "      <td>0</td>\n",
       "      <td>0</td>\n",
       "      <td>26</td>\n",
       "      <td>229</td>\n",
       "      <td>2</td>\n",
       "      <td>445</td>\n",
       "      <td>1</td>\n",
       "    </tr>\n",
       "  </tbody>\n",
       "</table>\n",
       "</div>"
      ],
      "text/plain": [
       "     company_rating  r  python  java  c++  ruby  data  science  perl  matlab  \\\n",
       "624             0.5  0       0     0    0     0     1        0     0       0   \n",
       "\n",
       "     machine  learning  nlp  javascript  aws  spark  hadoop  city_enc  \\\n",
       "624        0         0    0           0    0      0       0        26   \n",
       "\n",
       "     company_enc  state_enc  jobtitle_enc  salary_enc  \n",
       "624          229          2           445           1  "
      ]
     },
     "execution_count": 183,
     "metadata": {},
     "output_type": "execute_result"
    }
   ],
   "source": [
    "# Creating a new dataframe with just the encoded columns\n",
    "df_q2 = df.drop(['city','company','country', 'date', 'jobkey', 'jobtitle',\n",
    "                 'salary', 'state', 'url', 'description', 'description_token'], axis=1)\n",
    "df_q2.sample()"
   ]
  },
  {
   "cell_type": "code",
   "execution_count": 200,
   "metadata": {
    "collapsed": true
   },
   "outputs": [],
   "source": [
    "# Creating X and y variables\n",
    "y = df_q2['jobtitle_enc']\n",
    "X_copy = df_q2.drop('jobtitle_enc', axis=1)\n",
    "from sklearn.preprocessing import StandardScaler\n",
    "scaler = StandardScaler()\n",
    "X = scaler.fit_transform(X_copy)"
   ]
  },
  {
   "cell_type": "code",
   "execution_count": 201,
   "metadata": {
    "collapsed": true
   },
   "outputs": [],
   "source": [
    "# Creating the trainging and testing data\n",
    "X_train, X_test, y_train, y_test = train_test_split(X, y, test_size=0.33, random_state=42)"
   ]
  },
  {
   "cell_type": "code",
   "execution_count": 202,
   "metadata": {},
   "outputs": [
    {
     "data": {
      "text/plain": [
       "0.01509433962264151"
      ]
     },
     "execution_count": 202,
     "metadata": {},
     "output_type": "execute_result"
    }
   ],
   "source": [
    "# Making an attempt with an ExtraTreesClassifier\n",
    "extra = ExtraTreesClassifier(random_state=0, n_estimators=200, n_jobs=3, max_features=.5, class_weight='balanced')\n",
    "extra.fit(X_train, y_train)\n",
    "extra.score(X_test, y_test)"
   ]
  },
  {
   "cell_type": "code",
   "execution_count": 199,
   "metadata": {},
   "outputs": [
    {
     "name": "stdout",
     "output_type": "stream",
     "text": [
      "669\n",
      "(801,)\n",
      "0.835205992509\n",
      "132\n"
     ]
    }
   ],
   "source": [
    "# Unique job titles\n",
    "print len(sorted(set(y.unique())))\n",
    "print y.shape\n",
    "print 669./y.shape[0]\n",
    "print y.shape[0]-669"
   ]
  },
  {
   "cell_type": "markdown",
   "metadata": {},
   "source": [
    "There are 669 unique job titles. In this model, it means that there are 669 targets out of 801 rows. Or the equivalent to 83/100. Further tests require to just mine jobs with the exact given titles. This will help with the classification. There is too much variance in the job titles to accurately classify."
   ]
  },
  {
   "cell_type": "code",
   "execution_count": 191,
   "metadata": {},
   "outputs": [
    {
     "data": {
      "text/plain": [
       "[(0.23917803347240807, 'company_enc'),\n",
       " (0.18879181025043504, 'data'),\n",
       " (0.11631834758369962, 'company_rating'),\n",
       " (0.098195713705245269, 'city_enc'),\n",
       " (0.070991849976522109, 'science'),\n",
       " (0.050633696517518763, 'learning'),\n",
       " (0.046587581655659127, 'r'),\n",
       " (0.035708639032932067, 'machine'),\n",
       " (0.031695735816996161, 'python'),\n",
       " (0.020605794910194777, 'state_enc'),\n",
       " (0.01551140908372118, 'salary_enc'),\n",
       " (0.014793975655838209, 'spark'),\n",
       " (0.014336482484452118, 'hadoop'),\n",
       " (0.014272908662482828, 'java'),\n",
       " (0.011551775259461819, 'javascript'),\n",
       " (0.007866300837623668, 'nlp'),\n",
       " (0.0075920759959800755, 'matlab'),\n",
       " (0.0073874075077346758, 'aws'),\n",
       " (0.0042855517145712115, 'ruby'),\n",
       " (0.0036949098765233375, 'perl'),\n",
       " (0.0, 'c++')]"
      ]
     },
     "execution_count": 191,
     "metadata": {},
     "output_type": "execute_result"
    }
   ],
   "source": [
    "# Features that contribute to job title\n",
    "sorted(zip(extra.feature_importances_, X_copy.columns), reverse=True)"
   ]
  },
  {
   "cell_type": "markdown",
   "metadata": {},
   "source": [
    "Looking at the feature importances, it seems that the company feature, the word data, and company rating weigh higher in the classification. It would make sense that the words 'data' and 'science' are among the top 5 features that classify the job title."
   ]
  },
  {
   "cell_type": "code",
   "execution_count": 240,
   "metadata": {},
   "outputs": [
    {
     "name": "stdout",
     "output_type": "stream",
     "text": [
      "r 180\n",
      "python 130\n",
      "java 58\n",
      "c++ 0\n",
      "ruby 12\n",
      "data 2718\n",
      "science 620\n",
      "perl 10\n",
      "matlab 22\n",
      "machine 334\n",
      "learning 451\n",
      "nlp 21\n",
      "javascript 22\n",
      "aws 27\n",
      "spark 73\n",
      "hadoop 54\n"
     ]
    },
    {
     "data": {
      "text/plain": [
       "<matplotlib.axes._subplots.AxesSubplot at 0x133fabb10>"
      ]
     },
     "execution_count": 240,
     "metadata": {},
     "output_type": "execute_result"
    },
    {
     "data": {
      "image/png": "[encoded data removed]",
      "text/plain": [
       "<matplotlib.figure.Figure at 0x1350e4590>"
      ]
     },
     "metadata": {},
     "output_type": "display_data"
    }
   ],
   "source": [
    "# Collecting a count of all programming languages in the mined data\n",
    "temp_d = {}\n",
    "for lang in prog_lang:\n",
    "    print lang, df_q2[lang].sum()\n",
    "    temp_d[lang] = df_q2[lang].sum()\n",
    "    \n",
    "lang_counts_df = pd.DataFrame([temp_d])\n",
    "lang_counts_df.plot(kind='barh', figsize=(10,8), title='Programming Language Counts')"
   ]
  },
  {
   "cell_type": "markdown",
   "metadata": {},
   "source": [
    "As a way to classify the job title, I may go a different approach with EDA. Getting a total count of words said in all of the mined job postings, we can start to see a group of words that stand out in 'Data Scietist' listings. The word 'data' is among the highest with 2718 different occurences. In fact: 'data', 'science', 'machine', 'learning' are the top words. The programming languages that are the most mentioned are 'r', 'python', 'spark', and 'java'. Disclaimer, further tests will include a higher vocabulary of search words to match to Data Scientist job postings (Including the most obvious and missing in this case, 'sql')."
   ]
  }
 ],
 "metadata": {
  "anaconda-cloud": {},
  "kernelspec": {
   "display_name": "Python [conda env:dsi]",
   "language": "python",
   "name": "conda-env-dsi-py"
  },
  "language_info": {
   "codemirror_mode": {
    "name": "ipython",
    "version": 2
   },
   "file_extension": ".py",
   "mimetype": "text/x-python",
   "name": "python",
   "nbconvert_exporter": "python",
   "pygments_lexer": "ipython2",
   "version": "2.7.13"
  }
 },
 "nbformat": 4,
 "nbformat_minor": 1
}
